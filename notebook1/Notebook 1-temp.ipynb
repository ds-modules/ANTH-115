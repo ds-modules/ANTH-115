{
 "cells": [
  {
   "cell_type": "markdown",
   "id": "0a6f3cbb",
   "metadata": {},
   "source": [
    "# [Anthropology 115] 1. An Introduction to Data Analysis with COVID-19 Data\n",
    "\n",
    "<br>\n",
    "\n",
    "**Estimated Time:** 45-60 minutes <br>\n",
    "**Notebook Developed By:** Lan Dinh, Reynolds Zhang, Amisha Gupta, Manaar Salama <br>\n",
    "\n",
    "Welcome! This notebook will provide a gentle introduction to Python (a coding language) and Jupyter (the platform you are currently using) through the analysis and visualization of some basic COVID-19 data. You won't have to be answering any coding questions yourself in the notebooks for this class, but instead you'll be asked to answer some short-answer questions as we explore and visualize the data. Any questions you see in yellow-shaded sections below are questions you'll be answering! We hope that going through this notebook provides a useful and interesting first look into how important data collection of a virus like COVID-19 is."
   ]
  },
  {
   "cell_type": "markdown",
   "id": "1d2a9f4e",
   "metadata": {},
   "source": [
    "<figure>\n",
    "    <img src=\"data/covid19-header.jpg\" alt=\"An image\" width=600 height=400 />\n",
    "    </figure>"
   ]
  },
  {
   "cell_type": "markdown",
   "id": "5f449f28",
   "metadata": {},
   "source": [
    "Image Source: [City of Philadelphia](https://www.phila.gov/2021-12-20-free-rapid-at-home-covid-19-tests-at-health-department-vaccine-clinics/)"
   ]
  },
  {
   "cell_type": "markdown",
   "id": "898d849b",
   "metadata": {},
   "source": [
    "### Learning Outcomes\n",
    "\n",
    "In this notebook, you will learn about:\n",
    "- Navigating a Jupyter Notebook: Acquire skills to effectively navigate, run cells, and save your work in a Jupyter Notebook.\n",
    "- Basics of Coding in Python: Understand and interpret Python code in the context of data analysis and visualization.\n",
    "- How to Understand Tables: Grasp techniques to comprehend and analyze tabular data.\n",
    "- Utilizing and leveraging Python to visualize and understand data: Employ Python libraries to create visualizations that help to interpret and comprehend data.\n",
    "- Seeing Patterns in Data and Visualizations: Identify trends, patterns, and anomalies in data through visualizations and analysis.\n",
    "\n",
    "### Table of Contents\n",
    "1. [Introduction to Jupyter](#0) <br>\n",
    "1. [Introduction to Python](#1) <br>\n",
    "1. [Introduction to Tables and Data Analysis](#2) <br>\n",
    "1. [Introduction to the Data](#3) <br>\n",
    "1. [Analyzing COVID-19 Data Part 1: Comparing Countries](#4) <br>\n",
    "1. [Analyzing COVID-19 Data Part 2: Looking At Demographics](#5)<br>\n",
    "1. [Submitting Your Work](#7)<br>\n",
    "1. [Feedback Form](#8)<br>\n",
    "1. [(Optional) Explore Data Science Opportunities](#9)<br>"
   ]
  },
  {
   "cell_type": "markdown",
   "id": "9547d777",
   "metadata": {},
   "source": [
    "-----------------------------------------\n",
    "# 1. Introduction to Jupyter <a id='0'></a>"
   ]
  },
  {
   "cell_type": "markdown",
   "id": "59c89dfc",
   "metadata": {},
   "source": [
    "The Jupyter Notebook is an original web application for creating and sharing computational documents. In simple terms, it allows us to write Python code in a web-based format. A former team lead in the Data Science Undergraduate Studies Modules Development program created a helpful tutorial on using Jupyter. You can watch the video by running the cell below! To run the cell, you can click on the gray box directly below with the code that starts with `from IPython.lib.display`, and then press `Shift + Enter` or hit the `▶ Run` button in the toolbar at the top. "
   ]
  },
  {
   "cell_type": "code",
   "execution_count": null,
   "id": "6f2b3216",
   "metadata": {
    "scrolled": true
   },
   "outputs": [],
   "source": [
    "from IPython.lib.display import YouTubeVideo\n",
    "YouTubeVideo('QMR4nSdxu_M', width = 1000, height = 400)"
   ]
  },
  {
   "cell_type": "markdown",
   "id": "7624fbdc",
   "metadata": {},
   "source": [
    "This Jupyter Notebook runs on the Python coding language which we will use to analyze COVID-19 data. In future notebooks, we will look at other forms of medical data.\n",
    "\n",
    "The contents of the following cell set up what we need for the notebook by **importing pre-written Python packages** that will help us to read in, clean, analyze, and model our data. Run it, and once it is done, you should see \"Done!\" printed underneath the cell."
   ]
  },
  {
   "cell_type": "code",
   "execution_count": null,
   "id": "1528ed02",
   "metadata": {},
   "outputs": [],
   "source": [
    "# Run this cell by hitting `Shift + Enter` or the `Run` button at the top!\n",
    "import numpy as np\n",
    "import pandas as pd\n",
    "import ipywidgets as widgets\n",
    "from ipywidgets import interact, interactive, fixed, interact_manual\n",
    "from datetime import datetime\n",
    "import otter\n",
    "grader = otter.Notebook()\n",
    "import matplotlib.pyplot as plt\n",
    "%matplotlib inline\n",
    "plt.style.use('fivethirtyeight')\n",
    "import seaborn as sns\n",
    "print(\"Done!\")"
   ]
  },
  {
   "cell_type": "markdown",
   "id": "00bc3d95",
   "metadata": {},
   "source": [
    "Below, we have included the textual information of all that was covered in the video tutorial above. Feel free to skip ahead to the `Introduction to Python`section if you feel pretty confident in what was covered in the tutorial, and you can utilize the following text as a guide to come back to as needed!"
   ]
  },
  {
   "cell_type": "markdown",
   "id": "e00fa52d",
   "metadata": {},
   "source": [
    "**Note: In the notebooks for this course, we will never ask you to write code as part of a question for the assignment!** We do not expect you to have any prior experience or knowledge with Python. Instead, we will focus on performing the data manipulation, analysis, and visualization tasks in front of you and then ask short-answer questions based on your interpretations and what you observe! Do not feel too concerned about knowing how to write code like the examples above. We just want to provide you with a basic introduction to these tasks in case you are curious, so that it is easier for you to follow along."
   ]
  },
  {
   "cell_type": "markdown",
   "id": "468546cd",
   "metadata": {},
   "source": [
    "## 1.1 Cells"
   ]
  },
  {
   "cell_type": "markdown",
   "id": "fe48bdee",
   "metadata": {},
   "source": [
    "### What is a cell?\n",
    "A **cell** is an individual block in the notebook. This whole document is a Jupyter Notebook. Each cell will be highlighted when clicked on. For example, if you click once on this text, you should see a small outline of a box appear with a blue line on the left. The outline that you see corresponds to a single cell!\n",
    "\n",
    "In Jupyter Notebooks, there are two types of cells: **text cells and code cells**."
   ]
  },
  {
   "cell_type": "markdown",
   "id": "69806f80",
   "metadata": {},
   "source": [
    "\n",
    "#### Text Cells\n",
    "Text cells (like this one) can be edited by double-clicking on them. They're written in a simple format called Markdown to add formatting and section headings. You don't need to learn Markdown, but it's important to know the difference between Text Cells and Code Cells.\n",
    "\n",
    "#### Code Cells \n",
    "Other cells, such as the one below, contain code in the Python 3 language. Don't worry -- you are not expected to write your own code for this notebook. However, it is important in these notebooks to know how to **run** cells."
   ]
  },
  {
   "cell_type": "code",
   "execution_count": null,
   "id": "5a001090",
   "metadata": {},
   "outputs": [],
   "source": [
    "# This is a code cell \n",
    "# A code cell is where you will write code\n",
    "# Errors can arise when you run code cells if there are any errors"
   ]
  },
  {
   "cell_type": "markdown",
   "id": "fb30eea5",
   "metadata": {},
   "source": [
    "### Running Cells\n",
    "\"Running a cell\" is equivalent to pressing \"Enter\" on a calculator once you've typed in the expression you want to evaluate: it produces an output. When you run a text cell, it outputs clean, organized writing. When you run a code cell, it computes all of the expressions you want to evaluate, and can output the result of the computation.\n",
    "\n",
    "To run the code in a code cell, first click on that cell to activate it.  It'll be highlighted with a little green or blue rectangle.  Next, you can either press the <code><b> ▶</b> Run </code> button above or press <b><code>Shift + Return</code></b> or <b><code>Shift + Enter</code></b>. This will run the current cell and select the next one."
   ]
  },
  {
   "cell_type": "code",
   "execution_count": null,
   "id": "ded126bf",
   "metadata": {},
   "outputs": [],
   "source": [
    "# Try to run this cell!\n",
    "\n",
    "2023 + 1"
   ]
  },
  {
   "cell_type": "markdown",
   "id": "4163f3dc",
   "metadata": {},
   "source": [
    "The above cell should return the number 2024."
   ]
  },
  {
   "cell_type": "markdown",
   "id": "8381e52d",
   "metadata": {},
   "source": [
    "In these notebooks, we will have provided all the coding for the data analysis and visualizations for you. To be able to see the visualizations and data though, you will have to run the cells! It can be helpful to simply run all the cells at once, which can be done by clicking the `Cell` menu at the top and then pressing `Run All`. However, if you would like to run the cells one-by-one as you go through the notebook, we will point out which cells you need to run!"
   ]
  },
  {
   "cell_type": "markdown",
   "id": "51d472da",
   "metadata": {},
   "source": [
    "Another thing to note is that Jupyter Notebooks will not \"remember\" the datasets or visualizations from your previous session if you re-open a notebook at a later time. Whenever you re-open a notebook, it is a good habit to run all the cells again, which can be done as stated above."
   ]
  },
  {
   "cell_type": "markdown",
   "id": "27110f37",
   "metadata": {},
   "source": [
    "## 1.2 Navigating the Notebook"
   ]
  },
  {
   "cell_type": "markdown",
   "id": "65f3f2dd",
   "metadata": {},
   "source": [
    "### Saving Your Work\n",
    "\n",
    "Although Jupyter Notebooks have an autosave feature, it is good practice to save your work often. To do this, you can click on the floppy disk icon at the top left (the leftmost one, directly to the left of the `+` icon). Alternatively, you can press `Ctrl+S` on a PC or `Command+S` on a Mac! To be safe, try getting into the habit of saving every time you make a change to your answers."
   ]
  },
  {
   "cell_type": "markdown",
   "id": "bfefa97b",
   "metadata": {},
   "source": [
    "### Submitting Your Work\n",
    "\n",
    "For these notebooks, we will be generating PDFs of your answers to the short-answer questions to submit. We'll walk you through this process at the end of the notebook when you have finished!"
   ]
  },
  {
   "cell_type": "markdown",
   "id": "d0f3f1d9",
   "metadata": {},
   "source": [
    "### Getting More Jupyter Help\n",
    "\n",
    "[\"Jupyter Notebook Tips, Tricks, and Shortcuts\"](https://dataquest.io/blog/jupyter-notebook-tips-tricks-shortcuts/)\n",
    "\n",
    "If you have previous coding experience or are interested in learning more about Jupyter, here you can find some high-level tools regarding functions and variables, as well as some tips on how to use Jupyter in other languages."
   ]
  },
  {
   "cell_type": "markdown",
   "id": "581e1379",
   "metadata": {},
   "source": [
    "*** \n",
    "# 2. Introduction to Python <a id='1'></a>"
   ]
  },
  {
   "cell_type": "markdown",
   "id": "d10d1258",
   "metadata": {},
   "source": [
    "**Python** is a popular programming language, for both data science and general software development. It gives us a way for us to communicate with the computer and give it instructions, which is why mastering the fundamentals is critical. \n",
    "\n",
    "Just like any language, Python has a set vocabulary made up of words it can understand, and a syntax which provides the rules for how to structure our commands and give instructions. "
   ]
  },
  {
   "cell_type": "markdown",
   "id": "93cc283e",
   "metadata": {},
   "source": [
    "## 2.1 Errors\n",
    "Errors in programming are common and totally okay! Don't be afraid when you see an error because more likely than not the solution lies in the error code itself! Let's see what an error looks like. **Run the cell below to see the output.**"
   ]
  },
  {
   "cell_type": "code",
   "execution_count": null,
   "id": "10826e32",
   "metadata": {},
   "outputs": [],
   "source": [
    "print('This line is missing something.'"
   ]
  },
  {
   "cell_type": "markdown",
   "id": "2fa0d17a",
   "metadata": {},
   "source": [
    "The last line of the error message in the output attempts to tell you what went wrong. You should see a message saying \"SyntaxError: unexpected EOF while parsing.\" This just means it expected a closing parenthesis to your code in this instance. In the next cell, let's rewrite this code by adding the parenthesis that we were missing."
   ]
  },
  {
   "cell_type": "code",
   "execution_count": null,
   "id": "944ab2fb",
   "metadata": {},
   "outputs": [],
   "source": [
    "print(\"This line is not missing anything!\")"
   ]
  },
  {
   "cell_type": "markdown",
   "id": "19827eba",
   "metadata": {},
   "source": [
    "Because you will not be doing any coding of your own in these notebooks, you shouldn't run into any serious errors with the code. However, below we have listed some common errors that may occur within Jupyter itself and some helpful solutions for those problems. If the problem doesn't appear in the list below and you're unsure of how to approach the error, feel free to let course staff know, so that the Data Science students who worked on this notebook can help solve the problem!"
   ]
  },
  {
   "cell_type": "markdown",
   "id": "e064129b",
   "metadata": {},
   "source": [
    "### Common errors and how to fix them\n",
    "\n",
    "##### Accidentally deleted something in a cell? \n",
    "Double click on that cell and press `Ctrl+Z` or `Command+Z` until you recover the deleted information.\n",
    "\n",
    "##### Getting a really long error message? \n",
    "This could be a result of deleting code somewhere in the notebook in a code cell. If you remember which cell you deleted code from, double click on that cell and press `Ctrl+Z` or `Command+Z` until the code is as it was originally. Otherwise, you can ask for help from course staff.\n",
    "\n",
    "##### Something is running for too long? \n",
    "Try restarting the kernel, by going to the `Kernel` menu at the top and then pressing `Restart & Run All`. Sometimes Jupyter might be overloaded with the simplest of commands. Don't worry, just save your work and restart the kernel. "
   ]
  },
  {
   "cell_type": "markdown",
   "id": "78c4d6b0",
   "metadata": {},
   "source": [
    "## 2.2 Resources for Learning Python"
   ]
  },
  {
   "cell_type": "markdown",
   "id": "c558c81e",
   "metadata": {},
   "source": [
    "As stated previously, you won't need to know too much about the ins-and-outs of Python and how to write the code yourself. However, if you are a bit curious or would like to learn more about utilizing Python for data analysis on your own time, we recommend checking out the Data 8 [textbook](https://inferentialthinking.com/chapters/intro.html) and [website](https://www.data8.org)! There, you can find a lot of in-depth material, examples, and assignments that work with a lot of the tools we use to analyze and visualize the data in these notebooks. This is totally optional -- there is no harm in Python and coding in general not being that interesting to you!"
   ]
  },
  {
   "cell_type": "markdown",
   "id": "5d20f7be",
   "metadata": {},
   "source": [
    "----------------------\n",
    "# 3. Introduction to Tables and Data Analysis <a id='2'></a>"
   ]
  },
  {
   "cell_type": "markdown",
   "id": "b70d9b85",
   "metadata": {},
   "source": [
    "## What is a **Table**?\n",
    "A **table** is an object in Python that allows you to store data. It is a collection of **rows** and **columns**. Each **row** corresponds to one entry in the table and each **column** corresponds to a particular aspect you have data about. For example, say you have a table with information about 10 college students. It would have one row for each student and one column for each aspect of the student (e.g. name, major, year in college, etc.)."
   ]
  },
  {
   "cell_type": "markdown",
   "id": "14c6fac4",
   "metadata": {},
   "source": [
    "## 3.1 Reading in the Data\n",
    "\n",
    "In this notebook, we will be using and analyzing COVID-19 data from [Johns Hopkins University](https://github.com/CSSEGISandData/COVID-19/tree/master/csse_covid_19_data/csse_covid_19_time_series). We will discuss the context and implications of this data further in the next section, but for now, we will use this data to introduce some basic concepts regarding tables and data manipulation in Python.\n",
    "\n",
    "\n",
    "The `time_series_covid19_cases_global.csv` data contains daily reports on confirmed COVID-19 cases globally from January 22, 2020 to February 6, 2023.\n",
    "\n",
    "\n",
    "The command `pd.read_csv` allows us to read and load our CSV file into a table-like object called a **DataFrame**. The command `.head()` gives us the first 5 rows of the dataset. Run the code cell below to load the data that we will be using for analysis."
   ]
  },
  {
   "cell_type": "code",
   "execution_count": null,
   "id": "d6612dce",
   "metadata": {},
   "outputs": [],
   "source": [
    "# Run this cell to see what the table for our data looks like!\n",
    "covid_cases = pd.read_csv('data/time_series_covid19_cases_global.csv').drop(columns = ['Province/State'])\n",
    "\n",
    "# This next command will display the top 5 entries. You can change the number to view a different amount of entries at time.\n",
    "covid_cases.head(5)"
   ]
  },
  {
   "cell_type": "markdown",
   "id": "653b2484",
   "metadata": {},
   "source": [
    "Below you can find a brief description of what the column names mean in the data we've just loaded."
   ]
  },
  {
   "cell_type": "markdown",
   "id": "8da49ba0",
   "metadata": {},
   "source": [
    "| Column Name | Definition |\n",
    "| :- | :- |\n",
    "| Country/Region | The country where each report in the row is from. |\n",
    "| Lat | Latitude of the location. |\n",
    "| Long | Longtitude of the location. |\n",
    "| 1/22/20 | A specific day. Each row in this column has the number of confirmed cases across different countries. This dataset contains daily reports from 1/22/20 to 2/6/23. |\n"
   ]
  },
  {
   "cell_type": "markdown",
   "id": "18d9feb8",
   "metadata": {},
   "source": [
    "## 3.2 Understanding the Data"
   ]
  },
  {
   "cell_type": "markdown",
   "id": "1f347589",
   "metadata": {},
   "source": [
    "### 3.2.1. Columns\n",
    "\n",
    "In this first cell, let's take a look at the list of columns that we have in our dataset. The code cell below will display the first 10 columns and the last 10 columns of our dataset. Because each individual date is a column in our dataset, it's easier to look at the first 10 and last 10 than looking at all of the columns, since there are a LOT of columns in this dataset!"
   ]
  },
  {
   "cell_type": "code",
   "execution_count": null,
   "id": "2f241cda",
   "metadata": {},
   "outputs": [],
   "source": [
    "# Run this cell\n",
    "print(\"First 10 cols:\", covid_cases.columns.tolist()[0:10])\n",
    "print(\"Last 10 cols:\", covid_cases.columns.tolist()[-10:])"
   ]
  },
  {
   "cell_type": "markdown",
   "id": "088c393e",
   "metadata": {},
   "source": [
    "We can also take a look at how many columns we have in total by using the `len()` function, as seen in the code cell below."
   ]
  },
  {
   "cell_type": "code",
   "execution_count": null,
   "id": "f42f08c7",
   "metadata": {},
   "outputs": [],
   "source": [
    "# Run this cell\n",
    "len(covid_cases.columns)"
   ]
  },
  {
   "cell_type": "markdown",
   "id": "2b72b9f2",
   "metadata": {},
   "source": [
    "Let's look at a specific country in our dataset. For the next few examples, we'll take a look at the data from France."
   ]
  },
  {
   "cell_type": "code",
   "execution_count": null,
   "id": "eee2e675",
   "metadata": {},
   "outputs": [],
   "source": [
    "# Run this cell\n",
    "covid_cases[covid_cases['Country/Region'] == \"France\"]"
   ]
  },
  {
   "cell_type": "markdown",
   "id": "e3454dab",
   "metadata": {},
   "source": [
    "We can see France has **12 rows** in our table. This is because the data was collected from 12 different locations in France. \n",
    "\n",
    "We can take a look at a single row of our data from France, which corresponds to data collected from a single location in France."
   ]
  },
  {
   "cell_type": "code",
   "execution_count": null,
   "id": "63dbfcb7",
   "metadata": {},
   "outputs": [],
   "source": [
    "# Run this cell to extract a single row of data for France.\n",
    "single_row = covid_cases[(covid_cases['Country/Region'] == \"France\") & (covid_cases['Lat'] == 3.933900)]\n",
    "single_row"
   ]
  },
  {
   "cell_type": "markdown",
   "id": "aac46386",
   "metadata": {},
   "source": [
    "The data was collected using latitude and longitude coordinates and shows the number of confirmed cases of COVID-19 on each date.\n",
    "The `Country/Region` column specifies that this data is from France, and the `Lat` and `Long` columns provide the geographical location information for the region that this data was collected from. <br> <br>\n",
    "\n",
    "In the next cell, we will explore the unique countries in our dataset. We want only the \"unique\" values so that we aren't provided duplicates of the same country like we were above!"
   ]
  },
  {
   "cell_type": "code",
   "execution_count": null,
   "id": "58425bb9",
   "metadata": {},
   "outputs": [],
   "source": [
    "# Run this cell\n",
    "list(covid_cases['Country/Region'].unique())"
   ]
  },
  {
   "cell_type": "markdown",
   "id": "7cb627e2",
   "metadata": {},
   "source": [
    "We can find the length of this list as well, to see the number of unique countries in this dataset."
   ]
  },
  {
   "cell_type": "code",
   "execution_count": null,
   "id": "cba715ff",
   "metadata": {},
   "outputs": [],
   "source": [
    "# Run this cell\n",
    "len(covid_cases['Country/Region'].unique())"
   ]
  },
  {
   "cell_type": "markdown",
   "id": "c8e50850",
   "metadata": {},
   "source": [
    "Although we used France in the examples above, we could take a look at any country we are interested in."
   ]
  },
  {
   "cell_type": "code",
   "execution_count": null,
   "id": "d9976006",
   "metadata": {},
   "outputs": [],
   "source": [
    "# Run this cell\n",
    "covid_cases[covid_cases['Country/Region'] == \"Australia\"] "
   ]
  },
  {
   "cell_type": "markdown",
   "id": "3dc7e2fc",
   "metadata": {},
   "source": [
    "If you're interested in looking at the rows and columns particular country's data, feel free to replace the `Australia` in quotation marks in the cell above with your country of interest! In the next sections, we'll be taking a closer look at the following countries: **Brazil, China, India, Japan, Tanzania, and the United States.**"
   ]
  },
  {
   "cell_type": "markdown",
   "id": "fd19ac27",
   "metadata": {},
   "source": [
    "## 3.3 Exploring the Data"
   ]
  },
  {
   "cell_type": "markdown",
   "id": "2d2bf3f1",
   "metadata": {},
   "source": [
    "### 3.3.1 Selecting Columns"
   ]
  },
  {
   "cell_type": "markdown",
   "id": "aac9b968",
   "metadata": {},
   "source": [
    "In this section, we will continue using France's data as an example. First, let's create a new table where it contains only `France` in the column `Country/Region`."
   ]
  },
  {
   "cell_type": "code",
   "execution_count": null,
   "id": "57e8a75d",
   "metadata": {},
   "outputs": [],
   "source": [
    "# Run this cell\n",
    "france_data = covid_cases[covid_cases['Country/Region'] == \"France\"]"
   ]
  },
  {
   "cell_type": "markdown",
   "id": "816ff87f",
   "metadata": {},
   "source": [
    "Using this new table, we now can investigate number of deaths in France on different days. The cell below selects three columns `Lat`, `Long`, and `1/26/23` to show the case numbers on January 26, 2023 at different locations. \n",
    "\n",
    "To **select** certain columns from a table, we use the following notation: `table_name[['column_1', 'column_2', 'column_3', ...]]`."
   ]
  },
  {
   "cell_type": "code",
   "execution_count": null,
   "id": "49b7a1bf",
   "metadata": {},
   "outputs": [],
   "source": [
    "# Run this cell\n",
    "france_data[['Lat', 'Long', '1/26/23']]"
   ]
  },
  {
   "cell_type": "markdown",
   "id": "8e088c4c",
   "metadata": {},
   "source": [
    "### 3.3.2 Sorting"
   ]
  },
  {
   "cell_type": "markdown",
   "id": "76f36f8a",
   "metadata": {},
   "source": [
    "Now, let's say we are curious to know the highest number of cases in France on January 26th, 2023, **among the list of values from the 12 different locations in France**. We could answer this question by eye-balling the table above. However, we could also use a **sorting** function to sort the number of cases. The cell below shows you a sorted list of cases on January 26, 2023 in the 12 different reporting locations in France. The first item is the highest number in the list."
   ]
  },
  {
   "cell_type": "markdown",
   "id": "b3dc2ca3",
   "metadata": {},
   "source": [
    "The notation for sorting, as seen below, looks like this: `table_name['column_we_want_to_sort_by'].sort_values()`. The `.sort_values()` function, by default, sorts from lowest value to highest value, so we put the phrase `ascending = False` inside the parentheses to specify that we want to sort from highest to lowest instead."
   ]
  },
  {
   "cell_type": "code",
   "execution_count": null,
   "id": "7dc6bff8",
   "metadata": {},
   "outputs": [],
   "source": [
    "# Run this cell\n",
    "france_data['1/26/23'].sort_values(ascending = False)"
   ]
  },
  {
   "cell_type": "markdown",
   "id": "a46a0550",
   "metadata": {},
   "source": [
    "**Note:** In the above code cell, we used a sorting function called `.sort_values()`. A **function** is a piece of code that performs a specific task and can be used multiple times throughout your program. When using Python, we can write functions ourselves to perform tasks as needed, but many functions that we need have been coded by other people already, so we can **import** those sets of functions into Python to use them in our notebook. We did this at the very beginning of the notebook, in the second code cell that we ran!"
   ]
  },
  {
   "cell_type": "markdown",
   "id": "4754ccae",
   "metadata": {},
   "source": [
    "### 3.3.3 Grouping Columns"
   ]
  },
  {
   "cell_type": "markdown",
   "id": "4059c17e",
   "metadata": {},
   "source": [
    "When exploring data, we often need to classify individuals into **groups** according to shared features and then identify some characteristics of the groups. "
   ]
  },
  {
   "cell_type": "markdown",
   "id": "61cc70a0",
   "metadata": {},
   "source": [
    "Let's say we want to know the median number of cases on January 26, 2023 across different countries. To achieve this task, we use the `groupby` function. We then use the `agg` function to specify how we want to aggregate the data values -- in this case, we use the median, but many other options could be used, such as the mean, sum, count, etc."
   ]
  },
  {
   "cell_type": "code",
   "execution_count": null,
   "id": "5730b9d3",
   "metadata": {},
   "outputs": [],
   "source": [
    "# Run this cell\n",
    "median_by_country = covid_cases[['Country/Region','1/26/23']].groupby(['Country/Region']).agg('median')\n",
    "median_by_country"
   ]
  },
  {
   "cell_type": "markdown",
   "id": "a567fff7",
   "metadata": {},
   "source": [
    "How about our France example? Let's take a look at its median on this day."
   ]
  },
  {
   "cell_type": "code",
   "execution_count": null,
   "id": "8a802911",
   "metadata": {},
   "outputs": [],
   "source": [
    "# Run this cell\n",
    "median_by_country.loc['France']"
   ]
  },
  {
   "cell_type": "markdown",
   "id": "d6209a3c",
   "metadata": {},
   "source": [
    "As before, feel free to replace the `France` in quotation marks above with whatever country's median you would like to see!"
   ]
  },
  {
   "cell_type": "markdown",
   "id": "d93e6f31",
   "metadata": {},
   "source": [
    "--------------------\n",
    "# 4. Introduction to the Data  <a id='3'></a>"
   ]
  },
  {
   "cell_type": "markdown",
   "id": "29a68e76",
   "metadata": {},
   "source": [
    "Whenever we perform data analysis using already existing datasets, it is always good practice to take a closer look at the context of the data and who is represented or not represented by it. In the case of data related to medical conditions or illnesses, it is especially important to understand the implications of the data collection and what type of data about the individual we choose to collect and how we choose to represent it."
   ]
  },
  {
   "cell_type": "markdown",
   "id": "d6ca1ca9",
   "metadata": {},
   "source": [
    "In this notebook, we will be using data from the [Johns Hopkins Coronavirus Resource Center](https://coronavirus.jhu.edu/about/how-to-use-our-data) and the [Centers for Disease Control and Prevention](https://data.cdc.gov/Public-Health-Surveillance/Rates-of-Laboratory-Confirmed-RSV-COVID-19-and-Flu/kvib-3txy) for different purposes."
   ]
  },
  {
   "cell_type": "markdown",
   "id": "edf41c80",
   "metadata": {},
   "source": [
    "We will be utilizing a dataset from Johns Hopkins to look at COVID-19 cases across different countries from January of 2020 to February of 2023 (when this notebook was created). This dataset is especially useful to us as it provides daily data of COVID-19 cases over the past 2+ years, and the dataset for confirmed cases is still being updated to this day."
   ]
  },
  {
   "cell_type": "markdown",
   "id": "1d86c98c",
   "metadata": {},
   "source": [
    "The second dataset that we will be utilizing is from the CDC, and it contains data on the demographics of patients who were hospitalized due to COVID-19 (as well as the flu and RSV, but we will only be focusing on COVID-19 patients). Working with data that contains demographics about individuals can provide useful insights, but it can also be more complex than working with data that has no connection to humans. As we take a look at this dataset later on, we will question how this data is being represented and the implications this representation has. "
   ]
  },
  {
   "cell_type": "markdown",
   "id": "985adecb",
   "metadata": {},
   "source": [
    "While data science can be an incredibly helpful tool for discovering unjust trends and looking into steps that can be taken for solutions to these issues, it can also create its own sources of injustice through the data it utilizes and algorithms it builds. This is why it is important when doing data analysis to take a step back and ask these questions, rather than turning a blind eye to these issues and having an \"expert on ethics\" come look at the data science work later."
   ]
  },
  {
   "cell_type": "markdown",
   "id": "0f61d16b",
   "metadata": {},
   "source": [
    "------------------------\n",
    "# 5. Analyzing COVID-19 Data Part 1: Comparing Countries  <a id='4'></a>"
   ]
  },
  {
   "cell_type": "markdown",
   "id": "690ff32a",
   "metadata": {},
   "source": [
    "In this first section, we'll be utilizing [the data from Johns Hopkins CRC](https://coronavirus.jhu.edu/about/how-to-use-our-data) to analyze cumulative confirmed COVID-19 cases from January 22nd, 2020 to February 6th, 2023. This dataset contains COVID-19 cases from countries all around the world, but we will be focusing on a small subset of countries: Brazil, China, India, Japan, Tanzania, and the United States."
   ]
  },
  {
   "cell_type": "markdown",
   "id": "461d031f",
   "metadata": {},
   "source": [
    "**Note:** The code below will be a little bit more complex and involved than the previous examples we've shown, so don't worry too much about understanding the code cells if you don't want to! Just be sure to run the cells to see the final outputs of our tables and graphs."
   ]
  },
  {
   "cell_type": "markdown",
   "id": "c6b5bdeb",
   "metadata": {},
   "source": [
    "## 5.1 Loading and Exploring the Data"
   ]
  },
  {
   "cell_type": "markdown",
   "id": "81ace12a",
   "metadata": {},
   "source": [
    "First, we will load in our data and perform an initial task of grouping the data by country, so that we don't have multiple rows for different regions of each country."
   ]
  },
  {
   "cell_type": "code",
   "execution_count": null,
   "id": "faef6f4e",
   "metadata": {
    "scrolled": false
   },
   "outputs": [],
   "source": [
    "# Run this cell\n",
    "country_cases = pd.read_csv(\"data/time_series_covid19_cases_global.csv\")\n",
    "country_cases.head()"
   ]
  },
  {
   "cell_type": "code",
   "execution_count": null,
   "id": "b4f1345a",
   "metadata": {
    "scrolled": true
   },
   "outputs": [],
   "source": [
    "# Run this cell\n",
    "country_cases = country_cases.groupby(country_cases[\"Country/Region\"]).agg(sum).reset_index().drop(columns = [\"Lat\", \"Long\"])\n",
    "country_cases.head()"
   ]
  },
  {
   "cell_type": "markdown",
   "id": "50cabe3d",
   "metadata": {},
   "source": [
    "## 5.2 Manipulating the Data"
   ]
  },
  {
   "cell_type": "markdown",
   "id": "c34a4dee",
   "metadata": {},
   "source": [
    "Because this dataset is so expansive and contains a column for every single day from January 2020 to February 2023, we need to manipulate and reshape the data a bit in order to make it possible to graph on a lineplot."
   ]
  },
  {
   "cell_type": "code",
   "execution_count": null,
   "id": "5b3617f5",
   "metadata": {},
   "outputs": [],
   "source": [
    "# Run this cell\n",
    "all_dates = list(country_cases.columns[1:])"
   ]
  },
  {
   "cell_type": "code",
   "execution_count": null,
   "id": "47c00705",
   "metadata": {},
   "outputs": [],
   "source": [
    "# Run this cell\n",
    "melted_cases = pd.melt(country_cases, id_vars = \"Country/Region\", value_vars = all_dates).rename(axis = 1, mapper = {\"variable\": \"Date\", \"value\": \"Cases\"})\n",
    "melted_cases.head()"
   ]
  },
  {
   "cell_type": "markdown",
   "id": "92dd3bdd",
   "metadata": {},
   "source": [
    "## 5.3 Plotting the Data"
   ]
  },
  {
   "cell_type": "markdown",
   "id": "21830f56",
   "metadata": {},
   "source": [
    "Now that our data has been cleaned and manipulated, we can start visualizing. Below, we have created a handy feature for selecting which groups you would like to visualize, called **widgets**. These tools can be especially helpful when looking for trends that might not be the same between different groups or categories of data. \n",
    "\n",
    "You can use the following dropdown menu for the visualization to take a look at the different countries and explore!\n",
    "\n",
    "**Note:** Because the dataset is so large, it may take a few seconds for the visualization to load as you switch between countries in the dropdown menu."
   ]
  },
  {
   "cell_type": "code",
   "execution_count": null,
   "id": "d37a2f69",
   "metadata": {},
   "outputs": [],
   "source": [
    "# Run this cell\n",
    "def plot_by_country(country):\n",
    "    \"Create a lineplot for cumulative COVID-19 cases by country\"\n",
    "    plt.figure(figsize = (12, 6))  \n",
    "    plot = sns.lineplot(data = melted_cases[melted_cases['Country/Region'] == country], x = 'Date', y = 'Cases', ci = None)\n",
    "    plot.xaxis.set_major_locator(plt.MaxNLocator(15))  \n",
    "    plt.xticks(fontsize = 10, rotation = 45)  \n",
    "    plt.title('Cumulative Confirmed COVID-19 Cases for \\n ' + country + ' from January 2020 to February 2023')\n",
    "\n",
    "\n",
    "def country_dropdown_widget():\n",
    "    dropdown = widgets.Dropdown(\n",
    "        options = ('Brazil', 'China', 'India', 'Japan', 'Tanzania', 'US'),\n",
    "        value = 'Brazil',\n",
    "        description = 'Country:',\n",
    "        disabled = False\n",
    "    )\n",
    "    return dropdown\n",
    "\n",
    "dropdown = country_dropdown_widget()\n",
    "dropdown\n",
    "\n",
    "# Creates an interactive plot by country\n",
    "interact(plot_by_country, country = dropdown);"
   ]
  },
  {
   "cell_type": "markdown",
   "id": "30c0b3b4",
   "metadata": {},
   "source": [
    "Here we have provided the first short-answer questions! As specified at the top of the notebook, all the questions you will be answering will be in these yellow-shaded boxes. Follow the instructions in the cell directly after the yellow-shaded cells to write your answer."
   ]
  },
  {
   "cell_type": "markdown",
   "id": "e9fd2ca9",
   "metadata": {},
   "source": [
    "<!-- BEGIN QUESTION -->\n",
    "<div class=\"alert alert-warning\">\n",
    "\n",
    "### Question 5.1:\n",
    "**After exploring the visualizations above, discuss some of your findings. What trends among the selected countries were most interesting to you? Were there any trends in cumulative cases that particularly surprised you? Consider researching what the different preventative measures for slowing the spread of COVID-19 looked like in each country where you see increases or decreases in cases. Does your research match up with what you see in the graphs?**\n",
    "</div>"
   ]
  },
  {
   "cell_type": "markdown",
   "id": "131672bb",
   "metadata": {},
   "source": [
    "*Type your answer here. Double-click to edit this cell and replace this text with your answer. Run this cell to proceed when finished.*"
   ]
  },
  {
   "cell_type": "markdown",
   "id": "d86d9139",
   "metadata": {},
   "source": [
    "<!-- END QUESTION -->\n",
    "<!-- BEGIN QUESTION -->\n",
    "<div class=\"alert alert-warning\">\n",
    "\n",
    "### Question 5.2:\n",
    "**Aside from the changing measures taken by governments of these countries at different points in time, what do you think could be some causes of bias or inaccuracies in our data of confirmed COVID-19 cases? How might this data inaccurately reflect the actual number of COVID cases?**\n",
    "</div>"
   ]
  },
  {
   "cell_type": "markdown",
   "id": "18bb4a90",
   "metadata": {},
   "source": [
    "*Type your answer here. Double-click to edit this cell and replace this text with your answer. Run this cell to proceed when finished.*"
   ]
  },
  {
   "cell_type": "markdown",
   "id": "2e27b0ef",
   "metadata": {},
   "source": [
    "<!-- END QUESTION -->\n",
    "------------------------\n",
    "# 6. Analyzing COVID Data Part 2 - Demographics <a id='5'></a>"
   ]
  },
  {
   "cell_type": "markdown",
   "id": "cfb5f6dc",
   "metadata": {},
   "source": [
    "Now, let's do some exploration into the patients' demographics of COVID-19 hospitalizations. As stated in the section where we introduced the data, [this data](https://data.cdc.gov/Public-Health-Surveillance/Rates-of-Laboratory-Confirmed-RSV-COVID-19-and-Flu/kvib-3txy) comes from the CDC and is still being updated weekly."
   ]
  },
  {
   "cell_type": "markdown",
   "id": "d4af43c1",
   "metadata": {},
   "source": [
    "<!-- BEGIN QUESTION -->\n",
    "<div class=\"alert alert-warning\">\n",
    "\n",
    "### Question 6.1:\n",
    "**Based on your prior knowledge / experience, out of the categories `Age Group`, `Sex`, and `Race/Ethnicity`, which do you expect to see a noticeable discrepancy in rates of COVID-19 cases? You can select multiple categories. Provide a small justification for each category you select.**\n",
    "</div>"
   ]
  },
  {
   "cell_type": "markdown",
   "id": "dc6c949c",
   "metadata": {},
   "source": [
    "*Type your answer here. Double-click to edit this cell and replace this text with your answer. Run this cell to proceed when finished.*"
   ]
  },
  {
   "cell_type": "markdown",
   "id": "28424880",
   "metadata": {},
   "source": [
    "<!-- END QUESTION -->\n",
    "## 6.1 Loading and Exploring the Data"
   ]
  },
  {
   "cell_type": "markdown",
   "id": "50309ea6",
   "metadata": {},
   "source": [
    "First, we will load the data that we will be using to take a look at patient demographics. This dataset contains cases for the Flu, RSV, and COVID, so we will filter the data to only include COVID-19 hospitalizations."
   ]
  },
  {
   "cell_type": "code",
   "execution_count": null,
   "id": "10fedc8f",
   "metadata": {
    "scrolled": true
   },
   "outputs": [],
   "source": [
    "# Load the data and display the first 5 rows\n",
    "hospital_demo = pd.read_csv(\"data/laboratory-confirmed_hospitalization_rates.csv\")\n",
    "hospital_demo.head(5)"
   ]
  },
  {
   "cell_type": "code",
   "execution_count": null,
   "id": "25d932ac",
   "metadata": {},
   "outputs": [],
   "source": [
    "# Filter the data for COVID-19 hospitalizations and display the first 5 rows\n",
    "hospital_demo = hospital_demo[hospital_demo[\"Surveillance Network\"] == \"COVID-NET\"]\n",
    "hospital_demo.head(5)"
   ]
  },
  {
   "cell_type": "markdown",
   "id": "4a5fb601",
   "metadata": {},
   "source": [
    "Before we dive into analyzing the data, it's essential to understand the columns present in the dataset. The table below provides a brief description of what each column name represents. Familiarizing yourself with these definitions will help you make better sense of the visualizations and analyses performed on the data."
   ]
  },
  {
   "cell_type": "markdown",
   "id": "ef47fbab",
   "metadata": {},
   "source": [
    "\n",
    "|Column Name\t|Definition|\n",
    "| :- | :- |\n",
    "|Site\t|The state where the data was collected\n",
    "|MMWR Year\t|The year of the Morbidity and Mortality Weekly Report (MMWR)\n",
    "|MMWR Week\t|The week of the Morbidity and Mortality Weekly Report (MMWR)\n",
    "|Week ending date\t|The end date of the MMWR week\n",
    "|Surveillance Network\t|The type of surveillance network, in this case, \"COVID-NET\"\n",
    "|Age group|\tThe age group of the patients\n",
    "|Sex\t|The sex of the patients (as recorded in the original data)\n",
    "|Race/Ethnicity|\tThe race/ethnicity of the patients\n",
    "|Cumulative Rate|\tThe cumulative rate of COVID-19 hospitalizations up to the week ending date\n",
    "|Weekly Rate\t|The rate of COVID-19 hospitalizations for the specific MMWR week\n",
    "|Week ending date (Cleaned)|\tThe cleaned and formatted version of the Week ending date, making it easier for creating visualizations and plots\n"
   ]
  },
  {
   "cell_type": "markdown",
   "id": "937be10a",
   "metadata": {},
   "source": [
    "In the next few cells, we will be exploring the overall shape of the dataset as well as how many different values we have for each column of interest. We can see from running `.shape` below that we have 6,080 rows after filtering for only COVID hospitalizations, and we have 11 total columns. <br> <br>\n",
    "\n",
    "In the context of data analysis, **the shape of the data** refers to the dimensions of the dataset, specifically the number of rows and columns it has. It is typically represented as a **tuple** (a data structure similar to a list) of two elements, with the first element being the number of rows and the second element being the number of columns. Understanding the shape of the data can help you get a better grasp of the dataset's size and structure. <br> <br>\n",
    "\n",
    "Before filtering the dataset to only include COVID-19 hospitalizations, the original shape of the data was (25772, 11), where 25,772 represents the number of rows and 11 represents the number of columns. After filtering for only COVID-19 hospitalizations, the shape of the dataset is now (6080, 11), meaning there are 6,080 rows and 11 columns in the dataset."
   ]
  },
  {
   "cell_type": "code",
   "execution_count": null,
   "id": "90208a29",
   "metadata": {},
   "outputs": [],
   "source": [
    "# Check the shape of the dataset (number of rows and columns)\n",
    "hospital_demo.shape"
   ]
  },
  {
   "cell_type": "code",
   "execution_count": null,
   "id": "873e6075",
   "metadata": {},
   "outputs": [],
   "source": [
    "# Display the unique values and their counts for the 'Sex' column\n",
    "hospital_demo[\"Sex\"].value_counts()"
   ]
  },
  {
   "cell_type": "code",
   "execution_count": null,
   "id": "a3b00ad6",
   "metadata": {},
   "outputs": [],
   "source": [
    "# Display the unique values and their counts for the 'MMWR Year' column\n",
    "hospital_demo[\"MMWR Year\"].value_counts()"
   ]
  },
  {
   "cell_type": "code",
   "execution_count": null,
   "id": "781c93db",
   "metadata": {},
   "outputs": [],
   "source": [
    "# Display the unique values and their counts for the 'Age group' column\n",
    "hospital_demo['Age group'].value_counts()"
   ]
  },
  {
   "cell_type": "code",
   "execution_count": null,
   "id": "222c438c",
   "metadata": {},
   "outputs": [],
   "source": [
    "# Display the unique values and their counts for the 'Race/Ethnicity' column\n",
    "hospital_demo['Race/Ethnicity'].value_counts()"
   ]
  },
  {
   "cell_type": "markdown",
   "id": "05c6acd5",
   "metadata": {},
   "source": [
    "The information in the cells above will be useful for demonstrating how many unique values of each category for `Age` and `Race/Ethnicity` that we have. However, the way that some of these categories are represented is one of the common pitfalls of performing data analysis with data on demographics."
   ]
  },
  {
   "cell_type": "markdown",
   "id": "3078f929",
   "metadata": {},
   "source": [
    "<!-- BEGIN QUESTION -->\n",
    "<div class=\"alert alert-warning\">\n",
    "\n",
    "### Question 6.2:\n",
    "**What are some ways in which this data, primarily the `Sex` and `Race/Ethnicity` categories, are poorly collected and categorized? How do these categories misrepresent or fail to represent individuals? If you were in charge of collecting data for COVID-19 hospitalizations, how would you change the approach to collecting data on these types of demographics in order to better include and represent all of the patients?**\n",
    "</div>"
   ]
  },
  {
   "cell_type": "markdown",
   "id": "03eb128e",
   "metadata": {},
   "source": [
    "*Type your answer here. Double-click to edit this cell and replace this text with your answer. Run this cell to proceed when finished.*"
   ]
  },
  {
   "cell_type": "markdown",
   "id": "31ff3e35",
   "metadata": {},
   "source": [
    "<!-- END QUESTION -->\n",
    "## 6.2 Cleaning the Data"
   ]
  },
  {
   "cell_type": "markdown",
   "id": "f0f95112",
   "metadata": {},
   "source": [
    "We will now get rid of any rows that have missing values, as these will affect our visualizations."
   ]
  },
  {
   "cell_type": "code",
   "execution_count": null,
   "id": "f2bb9e65",
   "metadata": {
    "scrolled": true
   },
   "outputs": [],
   "source": [
    "# Drop rows with missing values and unnecessary columns, then display the first 5 rows of the cleaned data\n",
    "hospital_clean = hospital_demo.dropna().drop(columns = ['Season', 'MMWR Week']).copy()\n",
    "hospital_clean.head()"
   ]
  },
  {
   "cell_type": "markdown",
   "id": "4bd8f2e8",
   "metadata": {},
   "source": [
    "Another useful step we can take for our visualizations is re-arranging the format of the date for each row, so that it is easier for us to create our line plots."
   ]
  },
  {
   "cell_type": "code",
   "execution_count": null,
   "id": "b188e9e4",
   "metadata": {},
   "outputs": [],
   "source": [
    "# Convert and reformat the date column for better visualization, then display the first 5 rows\n",
    "hospital_clean[\"Week ending date (Cleaned)\"] = [datetime.strptime(x, \"%m/%d/%Y %I:%M:%S %p\") for x in hospital_clean[\"Week ending date\"]]\n",
    "hospital_clean.head()"
   ]
  },
  {
   "cell_type": "markdown",
   "id": "087fa486",
   "metadata": {},
   "source": [
    "## 6.3 Plotting the Data"
   ]
  },
  {
   "cell_type": "markdown",
   "id": "5e68e7e8",
   "metadata": {},
   "source": [
    "Below, we have created a few bar graphs based on different categories for the hospitalizations."
   ]
  },
  {
   "cell_type": "markdown",
   "id": "78f80c76",
   "metadata": {},
   "source": [
    "### Grouping by Race/Ethnicity"
   ]
  },
  {
   "cell_type": "markdown",
   "id": "4de39ca9",
   "metadata": {},
   "source": [
    "#### Cumulative Rate of COVID-19 Hospitalizations Categorized by Race/Ethnicity"
   ]
  },
  {
   "cell_type": "code",
   "execution_count": null,
   "id": "230da1ea",
   "metadata": {
    "scrolled": false
   },
   "outputs": [],
   "source": [
    "# Plot the Cumulative Rate of COVID-19 Hospitalizations by Race/Ethnicity\n",
    "plt.figure(figsize = (6,5))\n",
    "\n",
    "plot = sns.barplot(data = hospital_clean, x = 'Race/Ethnicity', y = 'Cumulative Rate', ci = None);\n",
    "plot.set_xticklabels(plot.get_xticklabels(), rotation = 40, ha = \"right\");\n",
    "plt.xticks(fontsize = 12);\n",
    "\n",
    "plot.set_ylabel(\"Cumulative Rate (COVID-19 \\n Hospitalizations per 100,000)\", fontsize = 15)\n",
    "\n",
    "plt.title('Cumulative Rate of COVID-19 Hospitalizations \\n Categorized by Race/Ethnicity');"
   ]
  },
  {
   "cell_type": "markdown",
   "id": "105ffe16",
   "metadata": {},
   "source": [
    "#### Weekly Rate of COVID-19 Hospitalizations Categorized by Race/Ethnicity"
   ]
  },
  {
   "cell_type": "code",
   "execution_count": null,
   "id": "5cc36c9e",
   "metadata": {},
   "outputs": [],
   "source": [
    "# Plot the Weekly Rate of COVID-19 Hospitalizations Categorized by Race/Ethnicity\n",
    "plt.figure(figsize = (6,5))\n",
    "\n",
    "plot = sns.barplot(data = hospital_clean, x = 'Race/Ethnicity', y = 'Weekly Rate', ci = None);\n",
    "plot.set_xticklabels(plot.get_xticklabels(), rotation = 40, ha = \"right\");\n",
    "plt.xticks(fontsize = 12);\n",
    "plot.set_ylabel(\"Weekly Rate (COVID-19 \\n Hospitalizations per 100,000)\", fontsize = 15)\n",
    "\n",
    "plt.title('Weekly Rate of COVID-19 Hospitalizations \\n Categorized by Race/Ethnicity');"
   ]
  },
  {
   "cell_type": "markdown",
   "id": "1d0d58b4",
   "metadata": {},
   "source": [
    "<!-- BEGIN QUESTION -->\n",
    "<div class=\"alert alert-warning\">\n",
    "\n",
    "### Question 6.3:\n",
    "**What discrepancies do you notice in the above graphs when looking at COVID-19 hospitalizations grouped by `Race/Ethnicity`? Do you see any trends that are particularly surprising to you? Or any trends that you had guessed would be the case in Question 6.1?**\n",
    "</div>"
   ]
  },
  {
   "cell_type": "markdown",
   "id": "debc4012",
   "metadata": {},
   "source": [
    "*Type your answer here. Double-click to edit this cell and replace this text with your answer. Run this cell to proceed when finished.*"
   ]
  },
  {
   "cell_type": "markdown",
   "id": "55ee344c",
   "metadata": {},
   "source": [
    "<!-- END QUESTION -->\n",
    "### Grouping by Age and Site"
   ]
  },
  {
   "cell_type": "markdown",
   "id": "7caa7f63",
   "metadata": {},
   "source": [
    "In the following visualizations, we have created some more widgets to group by `Age` and `Site` (State).\n",
    "\n",
    "You can use the following dropdown menus for the visualizations to take a look at the different groups and explore!"
   ]
  },
  {
   "cell_type": "markdown",
   "id": "209190f6",
   "metadata": {},
   "source": [
    "#### Weekly Rate of COVID-19 Cases Categorized by Age Group"
   ]
  },
  {
   "cell_type": "code",
   "execution_count": null,
   "id": "0f874211",
   "metadata": {
    "scrolled": false
   },
   "outputs": [],
   "source": [
    "# Plot the Weekly Rate of COVID-19 Cases Categorized by Age Group\n",
    "\n",
    "def plot_by_age(age):\n",
    "    \"Create a lineplot for AGE\"\n",
    "    plt.figure(figsize = (10, 5))\n",
    "    plot = sns.lineplot(data = hospital_clean[hospital_clean['Age group'] == age], x = 'Week ending date (Cleaned)', y = 'Weekly Rate', ci = None)\n",
    "    plt.xticks(fontsize = 12);\n",
    "    plt.title('Weekly Rate of COVID-19 Cases \\nCategorized by Age Group');\n",
    "    \n",
    "dropdown = widgets.Dropdown(\n",
    "    options = ('Overall', '0-6 mnth', '6-12 mnth', '1-2 yr', '2-4 yr', '5-11 yr', '12-17 yr', '18-29 yr', '30-39 yr', '40-49 yr', '50-64 yr', '65-74 yr', '75-85 yr', '85+'),\n",
    "    value = list(hospital_clean['Age group'].unique())[0],\n",
    "    description = 'Use me!',\n",
    "    disabled = False\n",
    ")\n",
    "dropdown\n",
    "\n",
    "\n",
    "# Creates an interative plot by age\n",
    "interact(plot_by_age, age = dropdown);"
   ]
  },
  {
   "cell_type": "markdown",
   "id": "4a438174",
   "metadata": {},
   "source": [
    "#### Weekly Rate of COVID-19 Cases Categorized by Site (State)"
   ]
  },
  {
   "cell_type": "code",
   "execution_count": null,
   "id": "5ac076a9",
   "metadata": {},
   "outputs": [],
   "source": [
    "# Weekly Rate of COVID-19 Cases Categorized by Site (State)\n",
    "\n",
    "def plot_by_site(site):\n",
    "    \"Create a lineplot for SITE\"\n",
    "    plt.figure(figsize = (10, 5))\n",
    "    plot = sns.lineplot(data = hospital_clean[hospital_clean['Site'] == site], x = 'Week ending date (Cleaned)', y = 'Weekly Rate', ci = None)\n",
    "    plt.xticks(fontsize = 12);\n",
    "    plt.title('Weekly Rate of COVID-19 Cases \\nCategorized by Site (State)');\n",
    "    \n",
    "dropdown = widgets.Dropdown(\n",
    "    options = list(hospital_clean['Site'].unique()),\n",
    "    value = list(hospital_clean['Site'].unique())[0],\n",
    "    description = 'Use me!',\n",
    "    disabled = False\n",
    ")\n",
    "dropdown\n",
    "\n",
    "# Creates an interative plot by site\n",
    "interact(plot_by_site, site = dropdown);"
   ]
  },
  {
   "cell_type": "markdown",
   "id": "0c2cd672",
   "metadata": {},
   "source": [
    "<!-- BEGIN QUESTION -->\n",
    "<div class=\"alert alert-warning\">\n",
    "    \n",
    "### Question 6.4:\n",
    "**What discrepancies do you notice in the above graphs when looking at COVID-19 hospitalizations grouped by `Age group`? Do you see any trends that are particularly surprising to you?**\n",
    "</div>"
   ]
  },
  {
   "cell_type": "markdown",
   "id": "b6f53cf7",
   "metadata": {},
   "source": [
    "*Type your answer here. Double-click to edit this cell and replace this text with your answer. Run this cell to proceed when finished.*"
   ]
  },
  {
   "cell_type": "markdown",
   "id": "477ef6ea",
   "metadata": {},
   "source": [
    "<!-- END QUESTION -->\n",
    "<!-- BEGIN QUESTION -->\n",
    "<div class=\"alert alert-warning\">\n",
    "\n",
    "### Question 6.5:\n",
    "**If you had access to more data or demographics regarding the hospitalizations of COVID-19 cases, what would you like to explore? What trends might you expect to find?**\n",
    "</div>"
   ]
  },
  {
   "cell_type": "markdown",
   "id": "92d5f201",
   "metadata": {},
   "source": [
    "*Type your answer here. Double-click to edit this cell and replace this text with your answer. Run this cell to proceed when finished.*"
   ]
  },
  {
   "cell_type": "markdown",
   "id": "a1abd2d7",
   "metadata": {},
   "source": [
    "<!-- END QUESTION -->\n",
    "-------------------------\n",
    "\n",
    "# Congratulations! You Have Completed Notebook 1.\n",
    "    \n",
    "We hope this notebook gave you a fun and interesting look into how Python, Jupyter Notebooks, and data analysis and visualization with COVID-19 data work. In the next notebooks, we'll be exploring more data analysis and asking questions about other medical data. Below, you will find instructions on how to generate a PDF of your written responses to submit!"
   ]
  },
  {
   "cell_type": "markdown",
   "id": "20adda58",
   "metadata": {},
   "source": [
    "---------------\n",
    "# 7. Submitting Your Work  <a id='7'></a>"
   ]
  },
  {
   "cell_type": "markdown",
   "id": "fc6ed83d",
   "metadata": {},
   "source": [
    "**Make sure that you've answered all the questions.**\n",
    "\n",
    "Follow these steps: \n",
    "1. Go to `File` in the menu bar, then select `Save and Checkpoint` (or press CTRL+S on the keyboard).\n",
    "2. Go to `Cell` in the menu bar, then select `Run All`.\n",
    "3. Click the link produced by the code cell below.\n",
    "4. Submit the downloaded PDF on bCourses according to your professor's instructions.\n",
    "\n",
    "**Note:** If clicking the link below doesn't work for you, don't worry! Simply click `File` in the menu, find `Download As`, and choose `PDF via LaTeX (.pdf)` to save a copy of your PDF onto your computer. Alternatively, you can also right click the link and save the link content as a PDF.\n",
    "\n",
    "**Check the PDF before submitting and make sure all of your answers and any changes are shown.**"
   ]
  },
  {
   "cell_type": "code",
   "execution_count": null,
   "id": "adf7e731",
   "metadata": {},
   "outputs": [],
   "source": [
    "# Run this cell\n",
    "# This may take a few extra seconds.\n",
    "from otter.export import export_notebook\n",
    "from IPython.display import display, HTML\n",
    "export_notebook(\"Notebook 1.ipynb\", filtering=True, pagebreaks=False)\n",
    "display(HTML(\"<p style='font-size:20px'> <br>Save this notebook, then click <a href='Notebook 1.pdf' download>here</a> to open the PDF.<br></p>\"))"
   ]
  },
  {
   "cell_type": "markdown",
   "id": "3938db15",
   "metadata": {},
   "source": [
    "----------------------\n",
    "# 8. Feedback Form <a id='9'></a>"
   ]
  },
  {
   "cell_type": "markdown",
   "id": "bf2996bf",
   "metadata": {},
   "source": [
    "<div class=\"alert alert-info\">\n",
    "<b> We encourage student to fill out the following feedback form to share your experience with this Module notebook. This feedback form will take no longer than 5 minutes. At UC Berkeley Data Science Undergraduate Studies Modules, we appreciate all feedback to improve the learning of students and experience utilizing Jupyter Notebooks for Data Science Education: </b> \n",
    "</div>\n",
    "\n",
    "# [UC Berkeley Data Science Feedback Form](https://forms.gle/hPgYMxFWKXH2sVkd7)"
   ]
  },
  {
   "cell_type": "markdown",
   "id": "bc4f0907",
   "metadata": {},
   "source": [
    "------------------\n",
    "# 9. (Optional) Explore Data Science Opportunities  <a id='8'></a>"
   ]
  },
  {
   "cell_type": "markdown",
   "id": "e1f1d3c1",
   "metadata": {},
   "source": [
    "Interested in learning more about how to get involved in data science or coding for data analysis? The following resources might help support your learning:\n",
    "\n",
    "\n",
    "- Data Science Modules: http://data.berkeley.edu/education/modules\n",
    "\n",
    "- Data Science Offerings at Berkeley: https://data.berkeley.edu/academics/undergraduate-programs/data-science-offerings\n",
    "\n",
    "- Data 8 Course Information: http://data8.org/\n",
    "\n",
    "- Data 100 Course Information: https://ds100.org/"
   ]
  }
 ],
 "metadata": {
  "kernelspec": {
   "display_name": "Python 3 (ipykernel)",
   "language": "python",
   "name": "python3"
  },
  "language_info": {
   "codemirror_mode": {
    "name": "ipython",
    "version": 3
   },
   "file_extension": ".py",
   "mimetype": "text/x-python",
   "name": "python",
   "nbconvert_exporter": "python",
   "pygments_lexer": "ipython3",
   "version": "3.9.15"
  }
 },
 "nbformat": 4,
 "nbformat_minor": 5
}
