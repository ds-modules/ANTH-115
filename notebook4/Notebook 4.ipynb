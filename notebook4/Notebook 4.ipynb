{
 "cells": [
  {
   "cell_type": "markdown",
   "id": "0a6f3cbb",
   "metadata": {},
   "source": [
    "# [Anthropology 115] 4. Analyzing Substance Use Epidemiology Research\n",
    "\n",
    "<br>\n",
    "\n",
    "**Estimated Time:** 30-40 minutes <br>\n",
    "**Notebook Developed By:** Manaar Salama, Lan Dinh, Reynolds Zhang, Amisha Gupta <br>\n",
    "\n",
    "Welcome back! In the previous notebook, we explored diabetes medical data regarding Type 2 diabetes diagnoses in the United States, especially looking into how certain data regarding the demographics and geography were represented, as well as what types of interesting trends about data we could discover from Google Trends. In this final notebook, we'll be taking a deeper dive into substance use epidemiology through different sources about it, as well as utilizing Google Trends again."
   ]
  },
  {
   "cell_type": "markdown",
   "id": "8fd9bc88",
   "metadata": {},
   "source": [
    "<figure>\n",
    "    <img src=\"data/substance_use.jpg\" width=600 height=400 />\n",
    "    </figure>"
   ]
  },
  {
   "cell_type": "markdown",
   "id": "a8313f6a",
   "metadata": {},
   "source": [
    "Image Source: [Columbia University Mailman School of Public Health](https://www.publichealth.columbia.edu/academics/departments/epidemiology/research/substance-use-epidemiology)"
   ]
  },
  {
   "cell_type": "markdown",
   "id": "079397b9",
   "metadata": {},
   "source": [
    "\n",
    "### Learning Outcomes\n",
    "\n",
    "In this notebook, you will learn about:\n",
    "- How Different Research Sources about Substance Use Epidemiology Approach the Topic\n",
    "- How What We Can Learn from Substance Use Epidemiology Depends on the Region We're Looking At\n",
    "- Using Google Searches to Discover More About Substance Use Epidemiology\n",
    "\n",
    "### Table of Contents\n",
    "1. [Introduction to the Sources](#0) <br>\n",
    "1. [The Epidemioloy of Drug Abuse - Source #1](#1) <br>\n",
    "1. [Wastewater Analysis and Drugs - Source #2](#2) <br>\n",
    "1. [Utilizing Google Searches to Learn More](#3) <br>\n",
    "1. [Submitting Your Work](#4) <br>\n",
    "1. [Feedback Form](#5)<br>\n",
    "1. [(Optional) Explore Data Science Opportunities](#6)<br>"
   ]
  },
  {
   "cell_type": "markdown",
   "id": "e3fd4081",
   "metadata": {},
   "source": [
    "As some quick reminders, you will not be expected or required to do any coding yourself in this notebook! The only questions you will be answering are some short-answer questions based on the data and visualizations. These questions that you will be answering are located in the **yellow-shaded boxes** throughout the notebook. Along with this, for any code cells that say \"`# Run this cell`\" at the top, be sure to run them so you can properly see the data tables and visualizations!"
   ]
  },
  {
   "cell_type": "markdown",
   "id": "ce6a2b78",
   "metadata": {},
   "source": [
    "------------------\n",
    "## Run the cell below to import all our required materials for this notebook!"
   ]
  },
  {
   "cell_type": "code",
   "execution_count": null,
   "id": "1528ed02",
   "metadata": {},
   "outputs": [],
   "source": [
    "# Run this cell by hitting 'Shift + Enter' or using the 'Run' button at the top!\n",
    "import numpy as np\n",
    "import pandas as pd\n",
    "import folium\n",
    "from re import sub\n",
    "import ipywidgets as widgets\n",
    "from ipywidgets import interact, interactive, fixed, interact_manual\n",
    "from IPython.display import display, HTML\n",
    "import otter\n",
    "grader = otter.Notebook()\n",
    "import datascience\n",
    "import matplotlib.pyplot as plt\n",
    "%matplotlib inline\n",
    "plt.style.use('fivethirtyeight')\n",
    "import seaborn as sns\n",
    "print(\"Done!\")"
   ]
  },
  {
   "cell_type": "markdown",
   "id": "9547d777",
   "metadata": {},
   "source": [
    "------------- \n",
    "# 1. Introduction to the Sources <a id='0'></a>"
   ]
  },
  {
   "cell_type": "markdown",
   "id": "b65f1b82",
   "metadata": {},
   "source": [
    "As stated in the introduction, this notebook will be slightly different than the previous three because we will be focusing on going through two interesting articles/studies regarding substance use epidemiology, rather than importing a dataset and creating our own visualizations and performing our own analysis. As we go along, we'll be asking questions to have you take a step back and really analyze the approach of these sources to substance use epidemiology.\n",
    "<br> <br>\n",
    "The first source that we'll be taking a look at comes from [The Journal of Clinical Pharmacology](https://accp1.onlinelibrary.wiley.com/doi/full/10.1002/jcph.1937) and was written by Martha J. Ignaszewski MD, FRCPC. The article goes through the epidemiology of the most common addictions to substances in the United States and exploring various aspects about them. Throughout the notebook, you'll have a chance to read through and explore the article, and we'll be pointing you to some of the more interesting points/conclusions brought about by the article.\n",
    "<br> <br>\n",
    "The second source that we'll be utilizing comes from the [European Monitoring Centre for Drugs and Drug Addiction](https://www.emcdda.europa.eu/publications/html/pods/waste-water-analysis_en) and features an analysis of wastewater and drugs in a handful of European cities. As we go through the notebook, you'll have a chance to investigate the analysis in further detail and discuss some of the findings that were most interesting to you."
   ]
  },
  {
   "cell_type": "markdown",
   "id": "74ee4f60",
   "metadata": {},
   "source": [
    "-----------\n",
    "# 2. The Epidemioloy of Drug Abuse - Source #1 <a id='1'></a>"
   ]
  },
  {
   "cell_type": "markdown",
   "id": "59b44dca",
   "metadata": {},
   "source": [
    "<img src=\"data/article_1.png\" width=600 height=400 />"
   ]
  },
  {
   "cell_type": "markdown",
   "id": "22a0f253",
   "metadata": {},
   "source": [
    "#### Here is the link again for the article: [The Journal of Clinical Pharmacology](https://accp1.onlinelibrary.wiley.com/doi/full/10.1002/jcph.1937)."
   ]
  },
  {
   "cell_type": "markdown",
   "id": "839ce17e",
   "metadata": {},
   "source": [
    "## 2.1 Abstract and Introduction"
   ]
  },
  {
   "cell_type": "markdown",
   "id": "e09e3d1c",
   "metadata": {},
   "source": [
    "Starting with the abstract, the author discusses the development of substance use disorders in the United States, as well as how the article would be exploring the epidemiology of substance use over time, among different age groups, and how it was affected by the COVID-19 pandemic."
   ]
  },
  {
   "cell_type": "markdown",
   "id": "bdf14978",
   "metadata": {},
   "source": [
    "The introduction of the article continues by discussing some base statistics about substance use, as well as the major sources of the data collected. The introduction concludes by listing the three most widely used substances in the United States, which include **nicotine, alcohol, and cannabis**."
   ]
  },
  {
   "cell_type": "markdown",
   "id": "8caf3589",
   "metadata": {},
   "source": [
    "## 2.2 Nicotine, Alcohol, and Cannabis"
   ]
  },
  {
   "cell_type": "markdown",
   "id": "819310ac",
   "metadata": {},
   "source": [
    "The three sections on nicotine, alcohol, and cannabis go into greater depth about the **percentages and ratios** of adults and adolescents in the United States who partake in and/or are addicted to these substances, as well as the **different forms of these substances** that were most commonly used."
   ]
  },
  {
   "cell_type": "markdown",
   "id": "6560baa1",
   "metadata": {},
   "source": [
    "## 2.3 Impact on Society, Access to Treatment, Impact of COVID-19"
   ]
  },
  {
   "cell_type": "markdown",
   "id": "05580560",
   "metadata": {},
   "source": [
    "These three sections contain some of the most interesting information from the article, as they discuss how **different groups of people** have different access to treatments for the substance use disorders, as well as how they are **unevenly affected** by the disorders to begin with. The final section of the impact of COVID-19 data goes into detail about how the COVID-19 pandemic has affected Americans' access to these substances and their treatment."
   ]
  },
  {
   "cell_type": "markdown",
   "id": "7466bb4c",
   "metadata": {},
   "source": [
    "## 2.4 Summary"
   ]
  },
  {
   "cell_type": "markdown",
   "id": "875a1690",
   "metadata": {},
   "source": [
    "<!-- BEGIN QUESTION -->\n",
    "<div class=\"alert alert-warning\">\n",
    "\n",
    "### Question 2.1:\n",
    "**Take some time to read through this article, and write a few sentences summarizing any findings that interested or surprised you the most. Be sure to include some information specifically from the sections about the impact on society, access to treatment, and impact of COVID-19, as we are most interested in looking at how the substance use disorders affect Americans and American society.**\n",
    "</div>"
   ]
  },
  {
   "cell_type": "markdown",
   "id": "544fcbfd",
   "metadata": {},
   "source": [
    "*Type your answer here. Double-click to edit this cell and replace this text with your answer. Run this cell to proceed when finished.*"
   ]
  },
  {
   "cell_type": "markdown",
   "id": "5d20f7be",
   "metadata": {},
   "source": [
    "<!-- END QUESTION -->\n",
    "----------------------\n",
    "# 3. Wastewater Analysis and Drugs - Source #2 <a id='2'></a>"
   ]
  },
  {
   "cell_type": "markdown",
   "id": "bfc0cb2e",
   "metadata": {},
   "source": [
    "<img src=\"data/article_2.png\" width=600 height=400 />"
   ]
  },
  {
   "cell_type": "markdown",
   "id": "d3216d38",
   "metadata": {},
   "source": [
    "#### Here is the link again for the study: [European Monitoring Centre for Drugs and Drug Addiction](https://www.emcdda.europa.eu/publications/html/pods/waste-water-analysis_en)."
   ]
  },
  {
   "cell_type": "markdown",
   "id": "be75ee5c",
   "metadata": {},
   "source": [
    "This study is a bit different from the previous article we looked at in Section 2, for a few different reasons. Firstly, this study is centered on **European cities**, so our populations between the two sources are not the same. Secondly, this study focuses on analyzing substance use epidemiology through data on wastewater, which includes **geographical visualizations** of the data. Lastly, this study focuses mostly on different substances than our first source, which include **cannabis, cocaine, MDMA, amphetamine, methamphetamine, and ketamine**."
   ]
  },
  {
   "cell_type": "markdown",
   "id": "30fbd74e",
   "metadata": {},
   "source": [
    "Because this study has a large number of interactive geographical visualizations of the various substances, this section will be mostly self-directed exploration of the study and the visualizations, to provide an opportunity for you to focus more on the information, visualizations, and statistics that interest you the most!"
   ]
  },
  {
   "cell_type": "markdown",
   "id": "6954c730",
   "metadata": {},
   "source": [
    "<!-- BEGIN QUESTION -->\n",
    "<div class=\"alert alert-warning\">\n",
    "\n",
    "### Question 3.1:\n",
    "**After reading through and exploring the study, write a few sentences here about what you decided to spend most of your time looking into, and what information / visualizations you found to be the most intriguing. If you did any additional research alongside looking through the study, feel free to write about it here as well!**\n",
    "</div>"
   ]
  },
  {
   "cell_type": "markdown",
   "id": "b62ffe5d",
   "metadata": {},
   "source": [
    "*Type your answer here. Double-click to edit this cell and replace this text with your answer. Run this cell to proceed when finished.*"
   ]
  },
  {
   "cell_type": "markdown",
   "id": "d93e6f31",
   "metadata": {},
   "source": [
    "<!-- END QUESTION -->\n",
    "--------------------\n",
    "# 4. Utilizing Google Searches to Learn More  <a id='3'></a>"
   ]
  },
  {
   "cell_type": "markdown",
   "id": "362c88cb",
   "metadata": {},
   "source": [
    "As we did in Notebook 3, today we'll be utilizing [Google Trends](https://trends.google.com/trends/explore) again to do some further exploration of substance use epidemiology. To get you started, we'll first take a look at the term `Substance use disorder` to see what related topics and queries Google Trends comes up with!"
   ]
  },
  {
   "cell_type": "markdown",
   "id": "26c4f9a0",
   "metadata": {},
   "source": [
    "<img src=\"data/article_3.png\" width=800 height=600 />"
   ]
  },
  {
   "cell_type": "markdown",
   "id": "89f27ca7",
   "metadata": {},
   "source": [
    "<img src=\"data/article_4.png\" width=800 height=600 />"
   ]
  },
  {
   "cell_type": "markdown",
   "id": "62139112",
   "metadata": {},
   "source": [
    "In Notebook 3, we focused mostly on the United States from 2004 - the present, but because our second source in this notebook looked into European cities, feel free to explore the United States, countries in Europe, or worldwide trends to see how they may be similar or different!"
   ]
  },
  {
   "cell_type": "markdown",
   "id": "0dceb97e",
   "metadata": {},
   "source": [
    "<!-- BEGIN QUESTION -->\n",
    "<div class=\"alert alert-warning\">\n",
    "\n",
    "### Question 4.1:\n",
    "**Summarize any interesting results that you found from exploring Google Trends. You can talk about any queries you tried, which terms resulted in higher percentages than you expected, which terms resulted in lower percentages that you thought might result in more, or anything else that you found interesting while looking through the trends!**\n",
    "</div>"
   ]
  },
  {
   "cell_type": "markdown",
   "id": "7f7da4a7",
   "metadata": {},
   "source": [
    "*Type your answer here. Double-click to edit this cell and replace this text with your answer. Run this cell to proceed when finished.*"
   ]
  },
  {
   "cell_type": "markdown",
   "id": "21943b36",
   "metadata": {},
   "source": [
    "<!-- END QUESTION -->\n",
    "<br>\n",
    "\n",
    "In this notebook, we looked at **different sources for exploring and learning more about substance use epidemiology**, with the three sources all providing differing lenses for approaching this topic. For this final question, think about the sources individually, as well as how they compare to each other."
   ]
  },
  {
   "cell_type": "markdown",
   "id": "2a23c5e6",
   "metadata": {},
   "source": [
    "<!-- BEGIN QUESTION -->\n",
    "<div class=\"alert alert-warning\">\n",
    "\n",
    "### Question 4.2:\n",
    "**In what ways do you think different countries or parts of the world approach the study of substance use disorders? How do you think they are similar or not similar in how they study who is most affected by substance use disorders and what measures help provide access to treatment for individuals with these disorders? What other dissimilarities did you notice between the sources of information in how they discuss the topic?**\n",
    "</div>"
   ]
  },
  {
   "cell_type": "markdown",
   "id": "3a461970",
   "metadata": {},
   "source": [
    "*Type your answer here. Double-click to edit this cell and replace this text with your answer. Run this cell to proceed when finished.*"
   ]
  },
  {
   "cell_type": "markdown",
   "id": "a1abd2d7",
   "metadata": {},
   "source": [
    "<!-- END QUESTION -->\n",
    "-------------------------\n",
    "# Congratulations! You Have Completed Notebook 4.\n",
    "We hope this notebook gave you some insight into how various geographic areas of the world approach substance use epidemiology, as well as how the sources about susbtance use disorders are similar and different in their lenses. We also hope that all of the notebooks you completed for this course were interesting and informative to you. Below, you will find instructions on how to generate a PDF of your written responses to submit!"
   ]
  },
  {
   "cell_type": "markdown",
   "id": "20adda58",
   "metadata": {},
   "source": [
    "---------------\n",
    "# 5. Submitting Your Work  <a id='4'></a>"
   ]
  },
  {
   "cell_type": "markdown",
   "id": "006f35ee",
   "metadata": {},
   "source": [
    "**Make sure that you've answered all the questions.**\n",
    "\n",
    "Follow these steps: \n",
    "1. Go to `File` in the menu bar, then select `Save and Checkpoint` (or press CTRL+S on the keyboard).\n",
    "2. Go to `Cell` in the menu bar, then select `Run All`.\n",
    "3. Click the link produced by the code cell below.\n",
    "4. Submit the downloaded PDF on bCourses according to your professor's instructions.\n",
    "\n",
    "**Note:** If clicking the link below doesn't work for you, don't worry! Simply click `File` in the menu, find `Download As`, and choose `PDF via LaTeX (.pdf)` to save a copy of your PDF onto your computer. Alternatively, you can also right click the link and save the link content as a PDF.\n",
    "\n",
    "**Check the PDF before submitting and make sure all of your answers and any changes are shown.**"
   ]
  },
  {
   "cell_type": "code",
   "execution_count": null,
   "id": "adf7e731",
   "metadata": {},
   "outputs": [],
   "source": [
    "# Run this cell\n",
    "# This may take a few extra seconds.\n",
    "from otter.export import export_notebook\n",
    "from IPython.display import display, HTML\n",
    "export_notebook(\"Notebook 4.ipynb\", filtering=True, pagebreaks=False)\n",
    "display(HTML(\"<p style='font-size:20px'> <br>Save this notebook, then click <a href='Notebook 4.pdf' download>here</a> to open the PDF.<br></p>\"))"
   ]
  },
  {
   "cell_type": "markdown",
   "id": "3938db15",
   "metadata": {},
   "source": [
    "----------------------\n",
    "# 6. Feedback Form <a id='5'></a>"
   ]
  },
  {
   "cell_type": "markdown",
   "id": "bfcce1d8",
   "metadata": {},
   "source": [
    "<div class=\"alert alert-info\">\n",
    "<b> We encourage student to fill out the following feedback form to share your experience with this Module notebook. This feedback form will take no longer than 5 minutes. At UC Berkeley Data Science Undergraduate Studies Modules, we appreciate all feedback to improve the learning of students and experience utilizing Jupyter Notebooks for Data Science Education: </b> \n",
    "</div>\n",
    "\n",
    "# [UC Berkeley Data Science Feedback Form](https://forms.gle/hPgYMxFWKXH2sVkd7)"
   ]
  },
  {
   "cell_type": "markdown",
   "id": "bc4f0907",
   "metadata": {},
   "source": [
    "------------------\n",
    "# 7. (Optional) Explore Data Science Opportunities  <a id='6'></a>\n",
    "\n",
    "Interested in learning more about how to get involved in data science or coding for data analysis? The following resources might help support your learning:\n",
    "\n",
    "\n",
    "- Data Science Modules: http://data.berkeley.edu/education/modules\n",
    "\n",
    "- Data Science Offerings at Berkeley: https://data.berkeley.edu/academics/undergraduate-programs/data-science-offerings\n",
    "\n",
    "- Data 8 Course Information: http://data8.org/\n",
    "\n",
    "- Data 100 Course Information: https://ds100.org/"
   ]
  }
 ],
 "metadata": {
  "kernelspec": {
   "display_name": "Python 3 (ipykernel)",
   "language": "python",
   "name": "python3"
  },
  "language_info": {
   "codemirror_mode": {
    "name": "ipython",
    "version": 3
   },
   "file_extension": ".py",
   "mimetype": "text/x-python",
   "name": "python",
   "nbconvert_exporter": "python",
   "pygments_lexer": "ipython3",
   "version": "3.9.15"
  }
 },
 "nbformat": 4,
 "nbformat_minor": 5
}
