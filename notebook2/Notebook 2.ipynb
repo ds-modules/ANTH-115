{
 "cells": [
  {
   "cell_type": "markdown",
   "id": "0a6f3cbb",
   "metadata": {},
   "source": [
    "# [Anthropology 115] 2. Exploring HIV and AIDS Data\n",
    "\n",
    "<br>\n",
    "\n",
    "**Estimated Time:** 30-45 minutes <br>\n",
    "**Notebook Developed By:** Reynolds Zhang, Amisha Gupta, Manaar Salama, Lan Dinh <br>\n",
    "\n",
    "Welcome back! In the previous notebook, we went through a basic introduction of how to use Python and Jupyter Notebooks for this course, as well as doing some introductory exploration and analysis of COVID-19 data while considering the contexts, circumstances, and potential issues of the data collection and representation. In this notebook, we'll continue using Python and Jupyter Notebooks to explore HIV and AIDS data. We will especially focus on what we can learn about our data from the historical context, what we can learn about historical context from our data, and how both of these aspects can complement each other."
   ]
  },
  {
   "cell_type": "markdown",
   "id": "8fd9bc88",
   "metadata": {},
   "source": [
    "<figure>\n",
    "    <img src=\"data/hiv_header.jpg\" alt=\"An image\" width=600 height=400 />\n",
    "    </figure>"
   ]
  },
  {
   "cell_type": "markdown",
   "id": "a8313f6a",
   "metadata": {},
   "source": [
    "Image Source: [MedlinePlus](https://medlineplus.gov/hivandinfenctions.html)"
   ]
  },
  {
   "cell_type": "markdown",
   "id": "079397b9",
   "metadata": {},
   "source": [
    "\n",
    "### Learning Outcomes\n",
    "\n",
    "In this notebook, you will learn about:\n",
    "- The History and Context of HIV and AIDS Data Collection\n",
    "- Analyzing and Visualizing HIV and AIDS Data with Python\n",
    "- How to Examine Data and its Context for a Better Understanding of the Situation\n",
    "\n",
    "### Table of Contents\n",
    "1. [The History and Context of HIV and AIDS Data Collection](#0) <br>\n",
    "1. [Introduction to the Data](#1) <br>\n",
    "1. [Exploring and Manipulating our HIV and AIDS Data](#2) <br>\n",
    "1. [Visualizing and Understanding Trends in our HIV and AIDS Data](#3) <br>\n",
    "1. [Submitting Your Work](#4)<br>\n",
    "1. [Feedback Form](#5)<br>\n",
    "1. [(Optional) Explore Data Science Opportunities](#6)<br>"
   ]
  },
  {
   "cell_type": "markdown",
   "id": "e3fd4081",
   "metadata": {},
   "source": [
    "As some quick reminders, you will not be expected or required to do any coding yourself in this notebook! The only questions you will be answering are some short-answer questions based on the data and visualizations. These questions that you will be answering are located in the **yellow-shaded boxes** throughout the notebook. Along with this, for any code cells that say \"`# Run this cell`\" at the top, be sure to run them so you can properly see the data tables and visualizations!"
   ]
  },
  {
   "cell_type": "markdown",
   "id": "ce6a2b78",
   "metadata": {},
   "source": [
    "------------------\n",
    "## Run the cell below to import all our required materials for this notebook!"
   ]
  },
  {
   "cell_type": "code",
   "execution_count": null,
   "id": "1528ed02",
   "metadata": {},
   "outputs": [],
   "source": [
    "# Run this cell by hitting 'Shift + Enter' or using the 'Run' button at the top!\n",
    "import numpy as np\n",
    "import pandas as pd\n",
    "from re import sub\n",
    "import ipywidgets as widgets\n",
    "from ipywidgets import interact, interactive, fixed, interact_manual\n",
    "from IPython.display import display, HTML\n",
    "import warnings\n",
    "warnings.filterwarnings('ignore')\n",
    "import otter\n",
    "grader = otter.Notebook()\n",
    "import datascience\n",
    "import matplotlib.pyplot as plt\n",
    "%matplotlib inline\n",
    "plt.style.use('fivethirtyeight')\n",
    "import seaborn as sns\n",
    "print(\"Done!\")"
   ]
  },
  {
   "cell_type": "markdown",
   "id": "9547d777",
   "metadata": {},
   "source": [
    "-------------\n",
    "# 1. The History and Context of HIV and AIDS Data Collection <a id='0'></a>"
   ]
  },
  {
   "cell_type": "markdown",
   "id": "0f67ade0",
   "metadata": {},
   "source": [
    "First, we should give a brief introduction to what HIV and AIDS are, and the history of data collection for HIV and AIDS."
   ]
  },
  {
   "cell_type": "markdown",
   "id": "1bde0f8d",
   "metadata": {},
   "source": [
    "[HIV](https://www.cdc.gov/hiv/basics/whatishiv.html#:~:text=HIV%20(human%20immunodeficiency%20virus)%20is,care%2C%20HIV%20can%20be%20controlled.) stands for **human immunodeficiency virus**. As its name implies, it is a virus that only infects humans, and it can affect people by weakening their immune system, making their bodies less capable of fighting off viruses and bacteria. If a person with HIV does not treat and control it, **it can lead to AIDS, which stands for acquired immunodeficiency syndrome** and is the most severe stage of HIV. Although HIV cannot be completely cured, it is important for people with HIV to have it treated and controlled. HIV can be transmitted from person to person through contact with infected blood and other body fluids."
   ]
  },
  {
   "cell_type": "markdown",
   "id": "5b385d9b",
   "metadata": {},
   "source": [
    "The first international instances of HIV were seen in the early 1980s (source: [HIV/AIDs Timeline](https://npin.cdc.gov/pages/hiv-and-aids-timeline)). In these early days, they found through research that it could be transmitted through blood. By 1981, they saw the first case of what would become AIDS, or the most severe stage of HIV. By early 1983, the CDC started to discover that most cases of HIV were comprised of gay men and injection drug users. Around 1988-1989, the CDC started releasing public reports and guidelines on the prevention of transmitting HIV."
   ]
  },
  {
   "cell_type": "markdown",
   "id": "9704e51b",
   "metadata": {},
   "source": [
    "Around 1996, **highly active antiretroviral therapy (HAART)** was introduced. Up until this point, deaths related to AIDS had been steadily increasing over the years, but after the introduction of this therapy, deaths caused by AIDS finally started to stagnate and then decrease, despite the continued increase in instances of AIDS."
   ]
  },
  {
   "cell_type": "markdown",
   "id": "a6fe77da",
   "metadata": {},
   "source": [
    "HIV / AIDS is one example in history of a relatively recent virus that experts and governments started tracking and keeping data on early in its beginning. We saw this process most recently with COVID-19 as well. The tracking of this data early on demonstrated how easy and necessary it is for data to be collected on the cases when new viruses or diseases appear."
   ]
  },
  {
   "cell_type": "markdown",
   "id": "74ee4f60",
   "metadata": {},
   "source": [
    "-----------\n",
    "# 2. Introduction to the Data <a id='1'></a>"
   ]
  },
  {
   "cell_type": "markdown",
   "id": "e8a9074f",
   "metadata": {},
   "source": [
    "For this notebook, **the first dataset** that we'll be utilizing is from the [United States Census Bureau](https://www.census.gov/data-tools/demo/hiv/#/records?s_datacode=R&menu=dual_grid). This dataset contains AIDS data on cases and deaths, along with demographics of the individuals with AIDS, such as their ages and sexes.\n",
    "\n",
    "The dataset is large as it contains global information on these cases and deaths from 1979 to 2018. It is an aggregation of data collected by thousands of sources over time and across countries. The data not only comes from different countries but also from hundreds of geographic regions within individual countries, making this dataset massive.\n",
    "\n",
    "While it's impressive to have data collected from so many sources across countries and over time, it can be challenging to maintain complete consistency and standardization, especially since collecting medical data regarding viruses is a relatively new practice. We'll explore some of the consistency issues in the data in the next section, and it's essential to keep this in mind when examining medical data and data in general.\n",
    "\n",
    "[**The second dataset**](https://www.unaids.org/sites/default/files/media_asset/UNAIDS_FactSheet_en.pdf) we'll use later on was collected from an HIV and AIDS [fact sheet](https://www.unaids.org/en/resources/fact-sheet) from UNAIDS.org. This data, generated by UNAIDS' own 2021 estimates, presents a breakdown of HIV infections and deaths, as well as people accessing treatment for HIV. We will use this data to examine how the statistics for HIV differ among various regions of the world as recently as 2021."
   ]
  },
  {
   "cell_type": "markdown",
   "id": "5d20f7be",
   "metadata": {},
   "source": [
    "----------------------\n",
    "# 3. Exploring and Manipulating our HIV and AIDS Data <a id='2'></a>"
   ]
  },
  {
   "cell_type": "markdown",
   "id": "ec894231",
   "metadata": {},
   "source": [
    "As we discussed in the previous section, the **CSV** (comma-separated values file, a type of text file convenient for storing data) that we will be looking at for our HIV and AIDS data comes from the [United States Census Bureau](https://www.census.gov). This dataset is incredible because of how much data it contains, but because of its size and complexity, we will have to do quite a bit of cleaning and manipulation to the data before we can make meaningful visualizations. "
   ]
  },
  {
   "cell_type": "markdown",
   "id": "dc4fad33",
   "metadata": {},
   "source": [
    "As with Notebook 1, you don't need to understand the how the code works in the following sections. However, we'll be breaking down what we're doing in each section in words so that you can understand the gist of the process we have to go through while cleaning and manipulating data!"
   ]
  },
  {
   "cell_type": "code",
   "execution_count": null,
   "id": "ca6b407a",
   "metadata": {},
   "outputs": [],
   "source": [
    "# Run this cell\n",
    "hiv = pd.read_csv(\"data/hiv_demographics.csv\")\n",
    "hiv.head()"
   ]
  },
  {
   "cell_type": "markdown",
   "id": "0e0bd8fb",
   "metadata": {},
   "source": [
    "After loading our data in, it's essential to take a look at what types of columns we have in our data."
   ]
  },
  {
   "cell_type": "code",
   "execution_count": null,
   "id": "26c27961",
   "metadata": {},
   "outputs": [],
   "source": [
    "# Run this cell\n",
    "hiv.columns"
   ]
  },
  {
   "cell_type": "markdown",
   "id": "e209c85f",
   "metadata": {},
   "source": [
    "We can do some exploration on these columns to see what type of values and data they hold. Several columns do not actually contain useful values for us to utilize, such as the `Test Type` column. We write the code in the following cell to see what unique values we have in this column, only to find that it contains a single value throughout the whole dataset: `nan`. **`nan` stands for \"not a number\"**, and it essentially means that the value we are looking at is empty."
   ]
  },
  {
   "cell_type": "code",
   "execution_count": null,
   "id": "70bd4317",
   "metadata": {},
   "outputs": [],
   "source": [
    "# Run this cell\n",
    "hiv[\"Test Type\"].unique()"
   ]
  },
  {
   "cell_type": "markdown",
   "id": "5678990b",
   "metadata": {},
   "source": [
    "In the following cell, we remove all of the columns that do not contain useful information or will not be helpful for us in our analysis."
   ]
  },
  {
   "cell_type": "code",
   "execution_count": null,
   "id": "e2fd367a",
   "metadata": {},
   "outputs": [],
   "source": [
    "# Run this cell\n",
    "hiv = hiv.drop(axis = 1, labels = [\"Country Code\", \"Comments\", \"Author\", \"Year\", \"Specimen Type\", \"Test Type\", \"INC_RATE\", \"SAMPSIZE\", \"Virus Type\", \"PREV_RATE\"])\n",
    "hiv.head()"
   ]
  },
  {
   "cell_type": "markdown",
   "id": "44144a1b",
   "metadata": {},
   "source": [
    "In addition to columns that contain information that isn't useful to us, we also have some columns, such as the `Age` column, that contain far too many different values to be useful to us. For the purposes of this notebook, we don't need to look at the distinctions between different age groups, so we can just focus on the `ALL` value, which groups up all the different age groups together. However, you can imagine how tedious the process would be to clean up this column if we really did need to look at the different age groups!"
   ]
  },
  {
   "cell_type": "code",
   "execution_count": null,
   "id": "99fe4581",
   "metadata": {},
   "outputs": [],
   "source": [
    "# Run this cell\n",
    "hiv[\"Age\"].unique()"
   ]
  },
  {
   "cell_type": "markdown",
   "id": "6d380115",
   "metadata": {},
   "source": [
    "For this notebook, we'll look only at the aggregated / grouped up ages and geographic areas, so that we are looking at all ages and a country as a whole."
   ]
  },
  {
   "cell_type": "code",
   "execution_count": null,
   "id": "5e5710ed",
   "metadata": {},
   "outputs": [],
   "source": [
    "# Run this cell\n",
    "hiv = hiv[(hiv[\"Age\"] == \"ALL\") & (hiv[\"Geographic Area\"] == \"National\")]"
   ]
  },
  {
   "cell_type": "markdown",
   "id": "1b8d1bdd",
   "metadata": {},
   "source": [
    "Similarly, the `Reference Date` column contains many different types of values, including individual years as well as ranges of years. To make our analysis and visualizations easier, we will only be looking at individual years, so the following code cells keep only the rows that have singular year values."
   ]
  },
  {
   "cell_type": "code",
   "execution_count": null,
   "id": "68cb629e",
   "metadata": {},
   "outputs": [],
   "source": [
    "# Run this cell\n",
    "hiv[\"Reference Date\"].unique()[0:40]"
   ]
  },
  {
   "cell_type": "code",
   "execution_count": null,
   "id": "4e09a3f6",
   "metadata": {},
   "outputs": [],
   "source": [
    "# Run this cell\n",
    "hiv_single_years = hiv[hiv[\"Reference Date\"].str.match(\"^\\d\\d\\d\\d$\")]"
   ]
  },
  {
   "cell_type": "code",
   "execution_count": null,
   "id": "091ffbd1",
   "metadata": {},
   "outputs": [],
   "source": [
    "# Run this cell\n",
    "hiv_single_years[\"Reference Date\"].unique()"
   ]
  },
  {
   "cell_type": "markdown",
   "id": "67fba7a5",
   "metadata": {},
   "source": [
    "The cell above shows the result of filtering out all of the rows with ranges of years as their `Reference Date` value!"
   ]
  },
  {
   "cell_type": "markdown",
   "id": "b08b5b81",
   "metadata": {},
   "source": [
    "Next, most of the data in this dataset is represented as textual values, or **strings**. We cannot perform numerical analysis on or graph string values very well, so we need to convert some of our string values to numerical values. In the following cells, we break this work of converting to numbers into multiple steps."
   ]
  },
  {
   "cell_type": "code",
   "execution_count": null,
   "id": "7000255f",
   "metadata": {},
   "outputs": [],
   "source": [
    "# Run this cell\n",
    "def remove_commas(input):\n",
    "    if type(input) != str:\n",
    "        return input\n",
    "    elif \",\" in input:\n",
    "        return sub(\",\", \"\", input)\n",
    "    else:\n",
    "        return input"
   ]
  },
  {
   "cell_type": "code",
   "execution_count": null,
   "id": "da48e3fd",
   "metadata": {},
   "outputs": [],
   "source": [
    "# Run this cell\n",
    "hiv_single_years[\"NO_CASES\"] = hiv_single_years[\"NO_CASES\"].apply(remove_commas)\n",
    "hiv_single_years[\"NO_DEATHS\"] = hiv_single_years[\"NO_DEATHS\"].apply(remove_commas)"
   ]
  },
  {
   "cell_type": "code",
   "execution_count": null,
   "id": "1147bf0a",
   "metadata": {},
   "outputs": [],
   "source": [
    "# Run this cell\n",
    "hiv_single_years = hiv_single_years.astype({\"Reference Date\": int, \"NO_CASES\": float, \"NO_DEATHS\": float})\n",
    "hiv_single_years.head()"
   ]
  },
  {
   "cell_type": "markdown",
   "id": "f5828c05",
   "metadata": {},
   "source": [
    "Now, all of the columns that we need represented as numbers, such as `Reference Date`, `NO_CASES`, and `NO_DEATHS`, are ready to be used in quantitative analysis and visualization!"
   ]
  },
  {
   "cell_type": "markdown",
   "id": "ff0811b9",
   "metadata": {},
   "source": [
    "Although you don't need to know how this code worked, we hope this section gave you some insight into what kinds of things we need to initially be looking out for and exploring when working with data. A lot of the time, data will not be ready to visualize upon download, and there are many datasets that are much messier and harder to work with than this one! When working with medical data especially, it is very important to do a lot of initial exploration and research of your data before jumping into analysis."
   ]
  },
  {
   "cell_type": "markdown",
   "id": "d93e6f31",
   "metadata": {},
   "source": [
    "--------------------\n",
    "# 4. Visualizing and Understanding Trends in our HIV and AIDS Data  <a id='3'></a>"
   ]
  },
  {
   "cell_type": "markdown",
   "id": "2a4aee9c",
   "metadata": {},
   "source": [
    "Now that our data has been cleaned and manipulated for us to use in our analysis and visualization, we can take a closer look at trends we would like to explore across the years and across different demographic groups."
   ]
  },
  {
   "cell_type": "markdown",
   "id": "34e470a8",
   "metadata": {},
   "source": [
    "## 4.1 Visualization and Analysis"
   ]
  },
  {
   "cell_type": "markdown",
   "id": "0dceb97e",
   "metadata": {},
   "source": [
    "<!-- BEGIN QUESTION -->\n",
    "<div class=\"alert alert-warning\">\n",
    "\n",
    "### Question 4.1:\n",
    "**Before we begin looking at visualizations of our data, what kind of general trends in cases and deaths do you expect to see over time and across different sexes? You can utilize the information we discussed in Section 1, or you can do your own research / use your own knowledge! You don't need to be too specific or do a lot of research on it -- this question is just meant to reflect your initial intuition.**\n",
    "</div>"
   ]
  },
  {
   "cell_type": "markdown",
   "id": "7f7da4a7",
   "metadata": {},
   "source": [
    "*Type your answer here. Double-click to edit this cell and replace this text with your answer. Run this cell to proceed when finished.*"
   ]
  },
  {
   "cell_type": "markdown",
   "id": "34fa1bf9",
   "metadata": {},
   "source": [
    "<!-- END QUESTION -->\n",
    "<br>\n",
    "Let's now take a look at the data of cases and deaths over time. We'll look at global data over the years, from 1979 to 2018."
   ]
  },
  {
   "cell_type": "code",
   "execution_count": null,
   "id": "5b6e4dec",
   "metadata": {},
   "outputs": [],
   "source": [
    "# Run this cell\n",
    "hiv_grouped_year = hiv_single_years.groupby(\"Reference Date\").agg(sum).reset_index().drop(axis = 1, labels = [\"Sequence\"])\n",
    "hiv_grouped_year.head()"
   ]
  },
  {
   "cell_type": "code",
   "execution_count": null,
   "id": "789a4d6c",
   "metadata": {},
   "outputs": [],
   "source": [
    "# Run this cell\n",
    "plt.figure(figsize = (8,4))\n",
    "sns.lineplot(data = hiv_grouped_year, x = \"Reference Date\", y = \"NO_CASES\");\n",
    "plt.xlabel(\"Reference Date\");\n",
    "plt.ylabel(\"Number of Cases\");\n",
    "plt.title(\"Global Number of Yearly AIDS Cases from 1979 - 2018\", fontsize = 16);"
   ]
  },
  {
   "cell_type": "code",
   "execution_count": null,
   "id": "26c70c6a",
   "metadata": {},
   "outputs": [],
   "source": [
    "# Run this cell\n",
    "plt.figure(figsize = (8,4))\n",
    "sns.lineplot(data = hiv_grouped_year, x = \"Reference Date\", y = \"NO_DEATHS\");\n",
    "plt.xlabel(\"Reference Date\");\n",
    "plt.ylabel(\"Number of Deaths\");\n",
    "plt.title(\"Global Number of Yearly AIDS Deaths from 1979 - 2018\", fontsize = 17);"
   ]
  },
  {
   "cell_type": "markdown",
   "id": "96ab7c5b",
   "metadata": {},
   "source": [
    "<!-- BEGIN QUESTION -->\n",
    "<div class=\"alert alert-warning\">\n",
    "\n",
    "### Question 4.2:\n",
    "**The graphs above for number of global cases and number of global deaths are a bit different in some periods and quite similar in others. What similarities or differences do you notice between the two graphs? Also, if you have any ideas as to what may have caused these similarities or differences, feel free to discuss them as well.**\n",
    "</div>"
   ]
  },
  {
   "cell_type": "markdown",
   "id": "d5261e99",
   "metadata": {},
   "source": [
    "*Type your answer here. Double-click to edit this cell and replace this text with your answer. Run this cell to proceed when finished.*"
   ]
  },
  {
   "cell_type": "markdown",
   "id": "e0765a3f",
   "metadata": {},
   "source": [
    "<!-- END QUESTION -->\n",
    "<br>\n",
    "Now, let's take a closer look at the distribution of AIDS cases and deaths across different sexes."
   ]
  },
  {
   "cell_type": "code",
   "execution_count": null,
   "id": "84faf696",
   "metadata": {},
   "outputs": [],
   "source": [
    "hiv_mf = hiv_single_years[(hiv_single_years[\"Sex\"] == \"F\") | (hiv_single_years[\"Sex\"] == \"M\")]\n",
    "hiv_mf_grouped = hiv_mf.groupby(\"Sex\").agg(sum).reset_index().drop(axis = 1, labels = [\"Sequence\"])\n",
    "hiv_mf_grouped.head()"
   ]
  },
  {
   "cell_type": "code",
   "execution_count": null,
   "id": "0cbccc0a",
   "metadata": {},
   "outputs": [],
   "source": [
    "# Run this cell\n",
    "colors = {\"F\": \"#007bd9\", \"M\": \"#d90000\"}\n",
    "plt.figure(figsize = (8,4))\n",
    "sns.lineplot(data = hiv_mf, x = \"Reference Date\", y = \"NO_CASES\", hue = \"Sex\", ci = False, palette = colors);\n",
    "plt.xlabel(\"Reference Date\");\n",
    "plt.ylabel(\"Number of Cases\");\n",
    "plt.title(\"Global Number of AIDS Cases from 1979 - 2018 By Sex\", fontsize = 17);"
   ]
  },
  {
   "cell_type": "code",
   "execution_count": null,
   "id": "f0fe99a7",
   "metadata": {},
   "outputs": [],
   "source": [
    "# Run this cell\n",
    "plt.figure(figsize = (7,4))\n",
    "sns.barplot(data = hiv_mf_grouped, x = \"Sex\", y = \"NO_CASES\", ci = False, palette = colors);\n",
    "plt.xlabel(\"Reference Date\");\n",
    "plt.ylabel(\"Number of Cases\");\n",
    "plt.title(\"Total Global Number of \\n AIDS Cases By Sex\", fontsize = 17);"
   ]
  },
  {
   "cell_type": "markdown",
   "id": "2d620526",
   "metadata": {},
   "source": [
    "As we could have assumed, the number of AIDS cases for males in this dataset is far greater than that of females."
   ]
  },
  {
   "cell_type": "markdown",
   "id": "f3a758a5",
   "metadata": {},
   "source": [
    "<!-- BEGIN QUESTION -->\n",
    "<div class=\"alert alert-warning\">\n",
    "\n",
    "### Question 4.3:\n",
    "**What kind of trends of AIDS cases or deaths might you expect to find or be interested in taking a look at if we had more data available in this dataset? This question is meant to be more open-ended -- there is no right or wrong answer.**\n",
    "</div>"
   ]
  },
  {
   "cell_type": "markdown",
   "id": "03f8a7ae",
   "metadata": {},
   "source": [
    "*Type your answer here. Double-click to edit this cell and replace this text with your answer. Run this cell to proceed when finished.*"
   ]
  },
  {
   "cell_type": "markdown",
   "id": "8868f5ff",
   "metadata": {},
   "source": [
    "<!-- END QUESTION -->\n",
    "<br>\n",
    "Holistically, this data shows us that around the world, the number of AIDS cases and deaths are lower than they used to be. However, this absolutely does not mean that the danger from AIDS is gone and that it is practically nonexistent today. Let's take a closer look at specific countries / regions to see how many people are still affected by AIDS today.\n",
    "\n",
    "First, let's try taking a look at South Africa using this data as an example of how AIDS in a country in the African continent looks today."
   ]
  },
  {
   "cell_type": "code",
   "execution_count": null,
   "id": "382b2efb",
   "metadata": {},
   "outputs": [],
   "source": [
    "# Run this cell\n",
    "hiv_sa = hiv_single_years[hiv_single_years[\"Country\"] == \"South Africa\"].groupby(\"Reference Date\").agg(sum).reset_index().drop(axis = 1, labels = [\"Sequence\"])\n",
    "hiv_sa"
   ]
  },
  {
   "cell_type": "code",
   "execution_count": null,
   "id": "81123edc",
   "metadata": {},
   "outputs": [],
   "source": [
    "# Run this cell\n",
    "plt.figure(figsize = (8,4))\n",
    "sns.lineplot(data = hiv_sa, x = \"Reference Date\", y = \"NO_CASES\");\n",
    "plt.xlabel(\"Reference Date\");\n",
    "plt.ylabel(\"Number of Cases\");\n",
    "plt.title(\"Number of Yearly AIDS Cases from 1982 - 1996 in South Africa\", fontsize = 17);"
   ]
  },
  {
   "cell_type": "markdown",
   "id": "f029d25d",
   "metadata": {},
   "source": [
    "Unfortunately, this data is not the most helpful -- it only provides numbers from 1982 - 1996, which doesn't give us a clear idea of how AIDS looks there today. Many of the countries in Africa look this way in the dataset: only a period of years contains data. To combat this issue, we'll have to utilize a second dataset."
   ]
  },
  {
   "cell_type": "code",
   "execution_count": null,
   "id": "bd96d136",
   "metadata": {},
   "outputs": [],
   "source": [
    "# Run this cell\n",
    "hiv_region = pd.read_csv(\"data/hiv_region.csv\")\n",
    "hiv_region"
   ]
  },
  {
   "cell_type": "markdown",
   "id": "cb8f6860",
   "metadata": {},
   "source": [
    "With this dataset, we have recent information on HIV (not AIDS, as in the previous dataset) from the year 2021. Let's look at a breakdown of HIV across these regions."
   ]
  },
  {
   "cell_type": "code",
   "execution_count": null,
   "id": "728049e4",
   "metadata": {},
   "outputs": [],
   "source": [
    "# Run this cell\n",
    "hiv_region_indiv = hiv_region.drop(8)"
   ]
  },
  {
   "cell_type": "code",
   "execution_count": null,
   "id": "2bcc04fb",
   "metadata": {},
   "outputs": [],
   "source": [
    "# Run this cell\n",
    "plt.figure(figsize = (7,4))\n",
    "plot = sns.barplot(data = hiv_region_indiv, x = \"Region\", y = \"New HIV infections 2021 - Total\", ci = False);\n",
    "plot.set_xticklabels(plot.get_xticklabels(), rotation = 40, ha = \"right\");\n",
    "plt.xlabel(\"Region\");\n",
    "plt.ylabel(\"New HIV infections\");\n",
    "plt.title(\"Number of New HIV Infections in \\n 2021 By Geographic Region\", fontsize = 17);"
   ]
  },
  {
   "cell_type": "code",
   "execution_count": null,
   "id": "c07e648a",
   "metadata": {},
   "outputs": [],
   "source": [
    "# Run this cell\n",
    "plt.figure(figsize = (7,4))\n",
    "plot = sns.barplot(data = hiv_region_indiv, x = \"Region\", y = \"AIDS-related deaths 2021\", ci = False);\n",
    "plot.set_xticklabels(plot.get_xticklabels(), rotation = 40, ha = \"right\");\n",
    "plt.xlabel(\"Region\");\n",
    "plt.ylabel(\"AIDS-related deaths\");\n",
    "plt.title(\"Number of AIDS-related Deaths \\n in 2021 By Geographic Region\", fontsize = 17);"
   ]
  },
  {
   "cell_type": "markdown",
   "id": "bb297326",
   "metadata": {},
   "source": [
    "These graphs tell a different story than the graphs and dataset we saw previously. We could see from our first graphs that, globally, in recent years the number of AIDS cases and deaths is much lower than the numbers of cases and deaths from the 1980s and 1990s, when there was not as much knowledge and no treatment available for HIV and AIDS."
   ]
  },
  {
   "cell_type": "markdown",
   "id": "11442b92",
   "metadata": {},
   "source": [
    "Because of this discrepancy, the graphs seemed as though HIV and AIDS is practically non-existent today, especially for many countries in Africa, since their data has not been fully updated from the first dataset that we utilized. However, these two graphs show us just how prevalent HIV and AIDS still is around the world, particularly in Africa. This is one of the reasons that it is important to not take a single dataset at face value without looking deeper into it, and with medical data, it can be very important to consider more than one dataset when looking at a certain phenomenon."
   ]
  },
  {
   "cell_type": "markdown",
   "id": "6729be12",
   "metadata": {},
   "source": [
    "## 4.2 Examining the Economic Impact"
   ]
  },
  {
   "cell_type": "markdown",
   "id": "515bb977",
   "metadata": {},
   "source": [
    "Looking at some visualizations and tables filled with numbers that are supposed to represent infections and deaths of people in the world can give us somewhat of a sense of how serious the impact of HIV and AIDS has been and continues to be, but it is not enough. Viewing people's lives as a simple number leaves a lot of the true impact out of the picture."
   ]
  },
  {
   "cell_type": "markdown",
   "id": "5529148a",
   "metadata": {},
   "source": [
    "To explore this problem from another angle, let's examine the economic burden of combating HIV and AIDS over time. In this section, you will mostly engage in self-directed exploration of [a chapter](https://www.imf.org/external/pubs/ft/aids/eng/chapter2.pdf) from the book *The Macroeconomics of HIV/AIDS*. The chapter focuses on the economic situation in countries affected by HIV and AIDS, primarily in developing nations.\n",
    "\n"
   ]
  },
  {
   "cell_type": "markdown",
   "id": "8ff4f9ce",
   "metadata": {},
   "source": [
    "The chapter is quite lengthy, and we don't expect you to read it thoroughly. Instead, skim through it, paying special attention to sections, data, or visualizations that you find most intriguing or surprising."
   ]
  },
  {
   "cell_type": "markdown",
   "id": "f55287ff",
   "metadata": {},
   "source": [
    "<!-- BEGIN QUESTION -->\n",
    "<div class=\"alert alert-warning\">\n",
    "\n",
    "### Question 4.4:\n",
    "**In a few sentences, discuss what you found most interesting, surprising, or concerning in the chapter. You can mention any data tables with unexpected figures, visualizations that captured your interest, or statements that provided deeper insight into the economic burden these countries faced due to HIV/AIDS.**\n",
    "</div>"
   ]
  },
  {
   "cell_type": "markdown",
   "id": "122d751c",
   "metadata": {},
   "source": [
    "*Type your answer here. Double-click to edit this cell and replace this text with your answer. Run this cell to proceed when finished.*"
   ]
  },
  {
   "cell_type": "markdown",
   "id": "a1abd2d7",
   "metadata": {},
   "source": [
    "<!-- END QUESTION -->\n",
    "-------------------------\n",
    "# Congratulations! You Have Completed Notebook 2.\n",
    "\n",
    "We hope this notebook gave you a fun and interesting look into different data analysis and visualization techniques for exploring HIV and AIDS data. In the final two notebooks, we'll be exploring and asking questions about other medical data. Below, you will find instructions on how to generate a PDF of your written responses to submit!"
   ]
  },
  {
   "cell_type": "markdown",
   "id": "20adda58",
   "metadata": {},
   "source": [
    "---------------\n",
    "# 5. Submitting Your Work  <a id='4'></a>"
   ]
  },
  {
   "cell_type": "markdown",
   "id": "006f35ee",
   "metadata": {},
   "source": [
    "**Make sure that you've answered all the questions.**\n",
    "\n",
    "Follow these steps: \n",
    "1. Go to `File` in the menu bar, then select `Save and Checkpoint` (or press CTRL+S on the keyboard).\n",
    "2. Go to `Cell` in the menu bar, then select `Run All`.\n",
    "3. Click the link produced by the code cell below.\n",
    "4. Submit the downloaded PDF on bCourses according to your professor's instructions.\n",
    "\n",
    "**Note:** If clicking the link below doesn't work for you, don't worry! Simply click `File` in the menu, find `Download As`, and choose `PDF via LaTeX (.pdf)` to save a copy of your PDF onto your computer. Alternatively, you can also right click the link and save the link content as a PDF.\n",
    "\n",
    "**Check the PDF before submitting and make sure all of your answers and any changes are shown.**"
   ]
  },
  {
   "cell_type": "code",
   "execution_count": null,
   "id": "adf7e731",
   "metadata": {},
   "outputs": [],
   "source": [
    "# Run this cell\n",
    "# This may take a few extra seconds.\n",
    "from otter.export import export_notebook\n",
    "from IPython.display import display, HTML\n",
    "export_notebook(\"Notebook 2.ipynb\", filtering=True, pagebreaks=False)\n",
    "display(HTML(\"<p style='font-size:20px'> <br>Save this notebook, then click <a href='Notebook 2.pdf' download>here</a> to open the PDF.<br></p>\"))"
   ]
  },
  {
   "cell_type": "markdown",
   "id": "ee476453",
   "metadata": {},
   "source": [
    "----------------------\n",
    "# 6. Feedback Form <a id='5'></a>"
   ]
  },
  {
   "cell_type": "markdown",
   "id": "3938db15",
   "metadata": {},
   "source": [
    "<div class=\"alert alert-info\">\n",
    "<b> We encourage student to fill out the following feedback form to share your experience with this Module notebook. This feedback form will take no longer than 5 minutes. At UC Berkeley Data Science Undergraduate Studies Modules, we appreciate all feedback to improve the learning of students and experience utilizing Jupyter Notebooks for Data Science Education: </b> \n",
    "</div>\n",
    "\n",
    "# [UC Berkeley Data Science Feedback Form](https://forms.gle/hPgYMxFWKXH2sVkd7)"
   ]
  },
  {
   "cell_type": "markdown",
   "id": "bc4f0907",
   "metadata": {},
   "source": [
    "------------------\n",
    "# 7. (Optional) Explore Data Science Opportunities  <a id='6'></a>\n",
    "\n",
    "Interested in learning more about how to get involved in data science or coding for data analysis? The following resources might help support your learning:\n",
    "\n",
    "\n",
    "- Data Science Modules: http://data.berkeley.edu/education/modules\n",
    "\n",
    "- Data Science Offerings at Berkeley: https://data.berkeley.edu/academics/undergraduate-programs/data-science-offerings\n",
    "\n",
    "- Data 8 Course Information: http://data8.org/\n",
    "\n",
    "- Data 100 Course Information: https://ds100.org/"
   ]
  }
 ],
 "metadata": {
  "kernelspec": {
   "display_name": "Python 3 (ipykernel)",
   "language": "python",
   "name": "python3"
  },
  "language_info": {
   "codemirror_mode": {
    "name": "ipython",
    "version": 3
   },
   "file_extension": ".py",
   "mimetype": "text/x-python",
   "name": "python",
   "nbconvert_exporter": "python",
   "pygments_lexer": "ipython3",
   "version": "3.9.15"
  }
 },
 "nbformat": 4,
 "nbformat_minor": 5
}
