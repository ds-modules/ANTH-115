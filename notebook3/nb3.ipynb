{
 "cells": [
  {
   "cell_type": "markdown",
   "id": "0a6f3cbb",
   "metadata": {},
   "source": [
    "# [Anthropology 115] 3. Working with Diabetes Data\n",
    "\n",
    "<br>\n",
    "\n",
    "**Estimated Time:** 30/45 minutes <br>\n",
    "**Notebook Developed By:** Amisha Gupta, Manaar Salama, Lan Dinh, Reynolds Zhang <br>\n",
    "\n",
    "Welcome back! In the previous notebook, we..."
   ]
  },
  {
   "cell_type": "markdown",
   "id": "8fd9bc88",
   "metadata": {},
   "source": [
    "insert header image here"
   ]
  },
  {
   "cell_type": "markdown",
   "id": "a8313f6a",
   "metadata": {},
   "source": [
    "Image Source: "
   ]
  },
  {
   "cell_type": "markdown",
   "id": "079397b9",
   "metadata": {},
   "source": [
    "\n",
    "### Learning Outcomes\n",
    "\n",
    "In this notebook, you will learn about:\n",
    "- The History and Context of Diabetes Data\n",
    "- Analyzing and Visualizing Diabetes Data with Python\n",
    "- Utilizing Google Searches to Discover More About the Medical Data\n",
    "\n",
    "### Table of Contents\n",
    "1. [The History and Context of Diabetes Data Collection](#0) <br>\n",
    "1. [Introduction to the Data](#1) <br>\n",
    "1. [Looking at Demographic Breakdowns of Diabetes Data](#2) <br>\n",
    "1. [Looking at Geographical Breakdowns of Diabetes Data](#3) <br>\n",
    "1. [Utilizing Google Searches to Learn More](#4) <br>\n",
    "1. [Submitting Your Work](#5)<br>\n",
    "1. [(Optional) Explore Data Science Opportunities](#6)<br>"
   ]
  },
  {
   "cell_type": "markdown",
   "id": "e3fd4081",
   "metadata": {},
   "source": [
    "As some quick reminders, you will not be expected or required to do any coding yourself in this notebook! The only questions you will be answering are some short answers based on the data and visualizations. These questions that you will be answering are located in the yellow-shaded boxes throughout the notebook."
   ]
  },
  {
   "cell_type": "markdown",
   "id": "ce6a2b78",
   "metadata": {},
   "source": [
    "------------------\n",
    "## Run the cell below to import all our required materials for this notebook!"
   ]
  },
  {
   "cell_type": "code",
   "execution_count": 1,
   "id": "1528ed02",
   "metadata": {},
   "outputs": [
    {
     "name": "stdout",
     "output_type": "stream",
     "text": [
      "Done!\n"
     ]
    }
   ],
   "source": [
    "# Run this cell by hitting 'Shift + Enter' or using the 'Run' button at the top!\n",
    "import numpy as np\n",
    "import pandas as pd\n",
    "import folium\n",
    "from re import sub\n",
    "import ipywidgets as widgets\n",
    "from ipywidgets import interact, interactive, fixed, interact_manual\n",
    "from IPython.display import display, HTML\n",
    "import otter\n",
    "grader = otter.Notebook()\n",
    "import datascience\n",
    "import matplotlib.pyplot as plt\n",
    "%matplotlib inline\n",
    "plt.style.use('fivethirtyeight')\n",
    "import seaborn as sns\n",
    "print(\"Done!\")"
   ]
  },
  {
   "cell_type": "markdown",
   "id": "9547d777",
   "metadata": {},
   "source": [
    "-------------\n",
    "# 1. The History and Context of Diabetes Data Collection <a id='0'></a>"
   ]
  },
  {
   "cell_type": "markdown",
   "id": "aa01d734",
   "metadata": {},
   "source": [
    "**Notebook 3 Development: I have left what I wrote for Notebook 2 here so that you can see an example of what the history and context section should look like! We basically just want to give a basic intro to what diabetes is / how it affects the lives of people who have it, and how the collection of diabetes data started and has evolved over time. Once you're done with this section, you can delete this cell and all the HIV/AIDS cells in this section.** Potentially good source: https://www.who.int/news-room/fact-sheets/detail/diabetes"
   ]
  },
  {
   "cell_type": "markdown",
   "id": "0f67ade0",
   "metadata": {},
   "source": [
    "First, we should give a brief introduction to what HIV and AIDS are, and the history of data collection for HIV and AIDS."
   ]
  },
  {
   "cell_type": "markdown",
   "id": "1bde0f8d",
   "metadata": {},
   "source": [
    "[HIV](https://www.cdc.gov/hiv/basics/whatishiv.html#:~:text=HIV%20(human%20immunodeficiency%20virus)%20is,care%2C%20HIV%20can%20be%20controlled.) stands for **human immunodeficiency virus**. As its name implies, it is a virus that only infects humans, and it can affect people by weakening their immune system, making their bodies less capable of fighting off viruses and bacteria. If a person with HIV does not treat and control it, **it can lead to AIDS, which stands for acquired immunodeficiency syndrome** and is the most severe stage of HIV. Although HIV cannot be completely cured, it is important for people with HIV to have it treated and controlled. HIV can be transmitted from person to person through contact with infected blood and other certain body fluids."
   ]
  },
  {
   "cell_type": "markdown",
   "id": "5b385d9b",
   "metadata": {},
   "source": [
    "The first international instances of HIV were seen in the early 1980s (source: [HIV/AIDs Timeline](https://npin.cdc.gov/pages/hiv-and-aids-timeline)). In these early days, they found through research that it could be transmitted through blood. By 1981, they saw the first case of what would become AIDS, or the most severe stage of HIV. By early 1983, the CDC starts to discover that most cases of HIV were comprised of gay men and injection drug users. Around 1988-1989, the CDC started releasing public reports and guidelines on the prevention of transmitting HIV."
   ]
  },
  {
   "cell_type": "markdown",
   "id": "9704e51b",
   "metadata": {},
   "source": [
    "Around 1996, **highly active antiretroviral therapy (HAART)** was introduced. Up until this point, deaths related to AIDS had been steadily increasing over the years, but after the introduction of this therapy, deaths caused by AIDS finally started to stagnate and then decrease, despite the continued increase in instances of AIDS."
   ]
  },
  {
   "cell_type": "markdown",
   "id": "a6fe77da",
   "metadata": {},
   "source": [
    "HIV / AIDS is one example in history of a relatively recent virus that experts and governments started tracking and keeping data on early in its beginning. We saw this process most recently with COVID-19 as well. The tracking of this data early on demonstrated how easy and necessary it is for data to be collected on the cases when new viruses or diseases are seen."
   ]
  },
  {
   "cell_type": "markdown",
   "id": "74ee4f60",
   "metadata": {},
   "source": [
    "-----------\n",
    "# 2. Introduction to the Data <a id='1'></a>"
   ]
  },
  {
   "cell_type": "markdown",
   "id": "59b44dca",
   "metadata": {},
   "source": [
    "**Notebook 3 Development: I have left what I wrote for Notebook 2 here so that you can see an example of what the data introduction section should look like! You may also want to touch on how certain categories / demographics are represented in the dataset (particularly Race/Ethnicity), and how it's not the best way to represent that kind of data. When you complete this section, you can delete this cell and all the HIV/AIDS data intro cells in this section!**"
   ]
  },
  {
   "cell_type": "markdown",
   "id": "e09e3d1c",
   "metadata": {},
   "source": [
    "Link to demographic (and potentially regional) data: https://gis.cdc.gov/grasp/diabetes/diabetesatlas-surveillance.html#"
   ]
  },
  {
   "cell_type": "markdown",
   "id": "e8a9074f",
   "metadata": {},
   "source": [
    "For this notebook, we'll be utilizing [one dataset](https://www.census.gov/data-tools/demo/hiv/#/records?s_datacode=R&menu=dual_grid) that comes from the United States Census Bureau. This dataset contains AIDS data on cases and deaths, as well as different demographics of the individuals with AIDS, such as their ages and sexes.\n",
    "\n",
    "This dataset is large because it contains global information on these cases and deaths from 1979 to 2018. The dataset itself is an aggregation of data collected by thousands of sources over time and across countries. Not only does the data come from different countries, but there are hundreds of geographic regions within individual countries that this data can come from. As you can imagine, this dataset is HUGE!\n",
    "\n",
    "Although it is amazing that we can have data that is collected from so many different sources across countries and over time, it can also make it hard for the data to be completely conistent and standardized, especially because medical data being collected regarding viruses is a relatively new practice. We will explore some of the issues with consistency in the data in the next section, and it is something you always want to keep in mind when looking at medical data and data in general."
   ]
  },
  {
   "cell_type": "markdown",
   "id": "5d20f7be",
   "metadata": {},
   "source": [
    "----------------------\n",
    "# 3. Looking at Demographic Breakdowns of Diabetes Data <a id='2'></a>"
   ]
  },
  {
   "cell_type": "markdown",
   "id": "d3216d38",
   "metadata": {},
   "source": [
    "**Notebook 3 Development: This section will contain both your manipulation / cleaning of the data as well as the visualizations you create and the questions those visualizations generate. You can focus on just doing the data work, you don't need to worry about adding all the explanatory text or the questions, unless you want to -- I can do those!**"
   ]
  },
  {
   "cell_type": "code",
   "execution_count": 6,
   "id": "ca6b407a",
   "metadata": {},
   "outputs": [
    {
     "data": {
      "text/html": [
       "<div>\n",
       "<style scoped>\n",
       "    .dataframe tbody tr th:only-of-type {\n",
       "        vertical-align: middle;\n",
       "    }\n",
       "\n",
       "    .dataframe tbody tr th {\n",
       "        vertical-align: top;\n",
       "    }\n",
       "\n",
       "    .dataframe thead th {\n",
       "        text-align: right;\n",
       "    }\n",
       "</style>\n",
       "<table border=\"1\" class=\"dataframe\">\n",
       "  <thead>\n",
       "    <tr style=\"text-align: right;\">\n",
       "      <th></th>\n",
       "      <th>Year</th>\n",
       "      <th>Total - Percentage</th>\n",
       "      <th>Total - Lower Limit</th>\n",
       "      <th>Total - Upper Limit</th>\n",
       "    </tr>\n",
       "  </thead>\n",
       "  <tbody>\n",
       "    <tr>\n",
       "      <th>0</th>\n",
       "      <td>2000</td>\n",
       "      <td>6.0</td>\n",
       "      <td>5.7</td>\n",
       "      <td>6.3</td>\n",
       "    </tr>\n",
       "    <tr>\n",
       "      <th>1</th>\n",
       "      <td>2001</td>\n",
       "      <td>6.4</td>\n",
       "      <td>6.1</td>\n",
       "      <td>6.8</td>\n",
       "    </tr>\n",
       "    <tr>\n",
       "      <th>2</th>\n",
       "      <td>2002</td>\n",
       "      <td>6.5</td>\n",
       "      <td>6.2</td>\n",
       "      <td>6.8</td>\n",
       "    </tr>\n",
       "    <tr>\n",
       "      <th>3</th>\n",
       "      <td>2003</td>\n",
       "      <td>6.6</td>\n",
       "      <td>6.3</td>\n",
       "      <td>6.9</td>\n",
       "    </tr>\n",
       "    <tr>\n",
       "      <th>4</th>\n",
       "      <td>2004</td>\n",
       "      <td>7.0</td>\n",
       "      <td>6.7</td>\n",
       "      <td>7.3</td>\n",
       "    </tr>\n",
       "  </tbody>\n",
       "</table>\n",
       "</div>"
      ],
      "text/plain": [
       "   Year  Total - Percentage  Total - Lower Limit  Total - Upper Limit\n",
       "0  2000                 6.0                  5.7                  6.3\n",
       "1  2001                 6.4                  6.1                  6.8\n",
       "2  2002                 6.5                  6.2                  6.8\n",
       "3  2003                 6.6                  6.3                  6.9\n",
       "4  2004                 7.0                  6.7                  7.3"
      ]
     },
     "execution_count": 6,
     "metadata": {},
     "output_type": "execute_result"
    }
   ],
   "source": [
    "# Run this cell\n",
    "diabetes = pd.read_csv(\"data/diabetes_total.csv\")\n",
    "diabetes.head()"
   ]
  },
  {
   "cell_type": "code",
   "execution_count": 7,
   "id": "c488557e",
   "metadata": {},
   "outputs": [
    {
     "data": {
      "text/html": [
       "<div>\n",
       "<style scoped>\n",
       "    .dataframe tbody tr th:only-of-type {\n",
       "        vertical-align: middle;\n",
       "    }\n",
       "\n",
       "    .dataframe tbody tr th {\n",
       "        vertical-align: top;\n",
       "    }\n",
       "\n",
       "    .dataframe thead th {\n",
       "        text-align: right;\n",
       "    }\n",
       "</style>\n",
       "<table border=\"1\" class=\"dataframe\">\n",
       "  <thead>\n",
       "    <tr style=\"text-align: right;\">\n",
       "      <th></th>\n",
       "      <th>Year</th>\n",
       "      <th>Male - Percentage</th>\n",
       "      <th>Male - Lower Limit</th>\n",
       "      <th>Male - Upper Limit</th>\n",
       "      <th>Female - Percentage</th>\n",
       "      <th>Female - Lower Limit</th>\n",
       "      <th>Female - Upper Limit</th>\n",
       "    </tr>\n",
       "  </thead>\n",
       "  <tbody>\n",
       "    <tr>\n",
       "      <th>0</th>\n",
       "      <td>2000</td>\n",
       "      <td>6.4</td>\n",
       "      <td>6.0</td>\n",
       "      <td>6.9</td>\n",
       "      <td>5.6</td>\n",
       "      <td>5.2</td>\n",
       "      <td>6.0</td>\n",
       "    </tr>\n",
       "    <tr>\n",
       "      <th>1</th>\n",
       "      <td>2001</td>\n",
       "      <td>6.9</td>\n",
       "      <td>6.4</td>\n",
       "      <td>7.4</td>\n",
       "      <td>6.1</td>\n",
       "      <td>5.7</td>\n",
       "      <td>6.5</td>\n",
       "    </tr>\n",
       "    <tr>\n",
       "      <th>2</th>\n",
       "      <td>2002</td>\n",
       "      <td>7.2</td>\n",
       "      <td>6.7</td>\n",
       "      <td>7.8</td>\n",
       "      <td>6.0</td>\n",
       "      <td>5.6</td>\n",
       "      <td>6.4</td>\n",
       "    </tr>\n",
       "    <tr>\n",
       "      <th>3</th>\n",
       "      <td>2003</td>\n",
       "      <td>7.1</td>\n",
       "      <td>6.6</td>\n",
       "      <td>7.6</td>\n",
       "      <td>6.1</td>\n",
       "      <td>5.7</td>\n",
       "      <td>6.5</td>\n",
       "    </tr>\n",
       "    <tr>\n",
       "      <th>4</th>\n",
       "      <td>2004</td>\n",
       "      <td>7.5</td>\n",
       "      <td>7.1</td>\n",
       "      <td>8.0</td>\n",
       "      <td>6.5</td>\n",
       "      <td>6.1</td>\n",
       "      <td>6.9</td>\n",
       "    </tr>\n",
       "  </tbody>\n",
       "</table>\n",
       "</div>"
      ],
      "text/plain": [
       "   Year  Male - Percentage  Male - Lower Limit  Male - Upper Limit  \\\n",
       "0  2000                6.4                 6.0                 6.9   \n",
       "1  2001                6.9                 6.4                 7.4   \n",
       "2  2002                7.2                 6.7                 7.8   \n",
       "3  2003                7.1                 6.6                 7.6   \n",
       "4  2004                7.5                 7.1                 8.0   \n",
       "\n",
       "   Female - Percentage  Female - Lower Limit  Female - Upper Limit  \n",
       "0                  5.6                   5.2                   6.0  \n",
       "1                  6.1                   5.7                   6.5  \n",
       "2                  6.0                   5.6                   6.4  \n",
       "3                  6.1                   5.7                   6.5  \n",
       "4                  6.5                   6.1                   6.9  "
      ]
     },
     "execution_count": 7,
     "metadata": {},
     "output_type": "execute_result"
    }
   ],
   "source": [
    "diabetes_by_sex = pd.read_csv(\"data/diabetes_sex.csv\")\n",
    "diabetes_by_sex.head()"
   ]
  },
  {
   "cell_type": "code",
   "execution_count": 8,
   "id": "b12cae0e",
   "metadata": {},
   "outputs": [
    {
     "data": {
      "text/html": [
       "<div>\n",
       "<style scoped>\n",
       "    .dataframe tbody tr th:only-of-type {\n",
       "        vertical-align: middle;\n",
       "    }\n",
       "\n",
       "    .dataframe tbody tr th {\n",
       "        vertical-align: top;\n",
       "    }\n",
       "\n",
       "    .dataframe thead th {\n",
       "        text-align: right;\n",
       "    }\n",
       "</style>\n",
       "<table border=\"1\" class=\"dataframe\">\n",
       "  <thead>\n",
       "    <tr style=\"text-align: right;\">\n",
       "      <th></th>\n",
       "      <th>Year</th>\n",
       "      <th>&lt; High School - Percentage</th>\n",
       "      <th>&lt; High School - Lower Limit</th>\n",
       "      <th>&lt; High School - Upper Limit</th>\n",
       "      <th>High School - Percentage</th>\n",
       "      <th>High School - Lower Limit</th>\n",
       "      <th>High School - Upper Limit</th>\n",
       "      <th>&gt; High School - Percentage</th>\n",
       "      <th>&gt; High School - Lower Limit</th>\n",
       "      <th>&gt; High School - Upper Limit</th>\n",
       "    </tr>\n",
       "  </thead>\n",
       "  <tbody>\n",
       "    <tr>\n",
       "      <th>0</th>\n",
       "      <td>2000</td>\n",
       "      <td>9.2</td>\n",
       "      <td>8.4</td>\n",
       "      <td>10.1</td>\n",
       "      <td>5.9</td>\n",
       "      <td>5.4</td>\n",
       "      <td>6.5</td>\n",
       "      <td>4.8</td>\n",
       "      <td>4.4</td>\n",
       "      <td>5.1</td>\n",
       "    </tr>\n",
       "    <tr>\n",
       "      <th>1</th>\n",
       "      <td>2001</td>\n",
       "      <td>9.8</td>\n",
       "      <td>8.9</td>\n",
       "      <td>10.8</td>\n",
       "      <td>7.0</td>\n",
       "      <td>6.4</td>\n",
       "      <td>7.6</td>\n",
       "      <td>4.9</td>\n",
       "      <td>4.5</td>\n",
       "      <td>5.2</td>\n",
       "    </tr>\n",
       "    <tr>\n",
       "      <th>2</th>\n",
       "      <td>2002</td>\n",
       "      <td>9.8</td>\n",
       "      <td>8.9</td>\n",
       "      <td>10.7</td>\n",
       "      <td>6.9</td>\n",
       "      <td>6.3</td>\n",
       "      <td>7.4</td>\n",
       "      <td>5.3</td>\n",
       "      <td>4.9</td>\n",
       "      <td>5.7</td>\n",
       "    </tr>\n",
       "    <tr>\n",
       "      <th>3</th>\n",
       "      <td>2003</td>\n",
       "      <td>9.2</td>\n",
       "      <td>8.4</td>\n",
       "      <td>10.1</td>\n",
       "      <td>6.1</td>\n",
       "      <td>5.6</td>\n",
       "      <td>6.7</td>\n",
       "      <td>5.9</td>\n",
       "      <td>5.5</td>\n",
       "      <td>6.3</td>\n",
       "    </tr>\n",
       "    <tr>\n",
       "      <th>4</th>\n",
       "      <td>2004</td>\n",
       "      <td>9.8</td>\n",
       "      <td>9.1</td>\n",
       "      <td>10.6</td>\n",
       "      <td>7.1</td>\n",
       "      <td>6.6</td>\n",
       "      <td>7.7</td>\n",
       "      <td>5.9</td>\n",
       "      <td>5.4</td>\n",
       "      <td>6.3</td>\n",
       "    </tr>\n",
       "  </tbody>\n",
       "</table>\n",
       "</div>"
      ],
      "text/plain": [
       "   Year  < High School - Percentage  < High School - Lower Limit  \\\n",
       "0  2000                         9.2                          8.4   \n",
       "1  2001                         9.8                          8.9   \n",
       "2  2002                         9.8                          8.9   \n",
       "3  2003                         9.2                          8.4   \n",
       "4  2004                         9.8                          9.1   \n",
       "\n",
       "   < High School - Upper Limit  High School - Percentage  \\\n",
       "0                         10.1                       5.9   \n",
       "1                         10.8                       7.0   \n",
       "2                         10.7                       6.9   \n",
       "3                         10.1                       6.1   \n",
       "4                         10.6                       7.1   \n",
       "\n",
       "   High School - Lower Limit  High School - Upper Limit  \\\n",
       "0                        5.4                        6.5   \n",
       "1                        6.4                        7.6   \n",
       "2                        6.3                        7.4   \n",
       "3                        5.6                        6.7   \n",
       "4                        6.6                        7.7   \n",
       "\n",
       "   > High School - Percentage  > High School - Lower Limit  \\\n",
       "0                         4.8                          4.4   \n",
       "1                         4.9                          4.5   \n",
       "2                         5.3                          4.9   \n",
       "3                         5.9                          5.5   \n",
       "4                         5.9                          5.4   \n",
       "\n",
       "   > High School - Upper Limit  \n",
       "0                          5.1  \n",
       "1                          5.2  \n",
       "2                          5.7  \n",
       "3                          6.3  \n",
       "4                          6.3  "
      ]
     },
     "execution_count": 8,
     "metadata": {},
     "output_type": "execute_result"
    }
   ],
   "source": [
    "diabetes_by_edu = pd.read_csv(\"data/diabetes_education.csv\")\n",
    "diabetes_by_edu.head()"
   ]
  },
  {
   "cell_type": "code",
   "execution_count": 9,
   "id": "9f358c95",
   "metadata": {},
   "outputs": [
    {
     "data": {
      "text/html": [
       "<div>\n",
       "<style scoped>\n",
       "    .dataframe tbody tr th:only-of-type {\n",
       "        vertical-align: middle;\n",
       "    }\n",
       "\n",
       "    .dataframe tbody tr th {\n",
       "        vertical-align: top;\n",
       "    }\n",
       "\n",
       "    .dataframe thead th {\n",
       "        text-align: right;\n",
       "    }\n",
       "</style>\n",
       "<table border=\"1\" class=\"dataframe\">\n",
       "  <thead>\n",
       "    <tr style=\"text-align: right;\">\n",
       "      <th></th>\n",
       "      <th>Year</th>\n",
       "      <th>Hispanic - Percentage</th>\n",
       "      <th>Hispanic - Lower Limit</th>\n",
       "      <th>Hispanic - Upper Limit</th>\n",
       "      <th>Non-Hispanic White - Percentage</th>\n",
       "      <th>Non-Hispanic White - Lower Limit</th>\n",
       "      <th>Non-Hispanic White - Upper Limit</th>\n",
       "      <th>Non-Hispanic Black - Percentage</th>\n",
       "      <th>Non-Hispanic Black - Lower Limit</th>\n",
       "      <th>Non-Hispanic Black - Upper Limit</th>\n",
       "      <th>Non-Hispanic Asian - Percentage</th>\n",
       "      <th>Non-Hispanic Asian - Lower Limit</th>\n",
       "      <th>Non-Hispanic Asian - Upper Limit</th>\n",
       "    </tr>\n",
       "  </thead>\n",
       "  <tbody>\n",
       "    <tr>\n",
       "      <th>0</th>\n",
       "      <td>2000</td>\n",
       "      <td>8.8</td>\n",
       "      <td>7.9</td>\n",
       "      <td>9.8</td>\n",
       "      <td>5.2</td>\n",
       "      <td>4.9</td>\n",
       "      <td>5.5</td>\n",
       "      <td>10.1</td>\n",
       "      <td>9.1</td>\n",
       "      <td>11.1</td>\n",
       "      <td>4.5</td>\n",
       "      <td>2.9</td>\n",
       "      <td>6.9</td>\n",
       "    </tr>\n",
       "    <tr>\n",
       "      <th>1</th>\n",
       "      <td>2001</td>\n",
       "      <td>9.2</td>\n",
       "      <td>8.2</td>\n",
       "      <td>10.2</td>\n",
       "      <td>5.6</td>\n",
       "      <td>5.3</td>\n",
       "      <td>6.0</td>\n",
       "      <td>10.3</td>\n",
       "      <td>9.3</td>\n",
       "      <td>11.3</td>\n",
       "      <td>5.0</td>\n",
       "      <td>3.4</td>\n",
       "      <td>7.2</td>\n",
       "    </tr>\n",
       "    <tr>\n",
       "      <th>2</th>\n",
       "      <td>2002</td>\n",
       "      <td>9.2</td>\n",
       "      <td>8.2</td>\n",
       "      <td>10.4</td>\n",
       "      <td>5.8</td>\n",
       "      <td>5.4</td>\n",
       "      <td>6.1</td>\n",
       "      <td>9.9</td>\n",
       "      <td>8.9</td>\n",
       "      <td>10.9</td>\n",
       "      <td>6.2</td>\n",
       "      <td>4.6</td>\n",
       "      <td>8.4</td>\n",
       "    </tr>\n",
       "    <tr>\n",
       "      <th>3</th>\n",
       "      <td>2003</td>\n",
       "      <td>8.5</td>\n",
       "      <td>7.6</td>\n",
       "      <td>9.6</td>\n",
       "      <td>5.9</td>\n",
       "      <td>5.5</td>\n",
       "      <td>6.2</td>\n",
       "      <td>10.0</td>\n",
       "      <td>9.1</td>\n",
       "      <td>11.1</td>\n",
       "      <td>6.3</td>\n",
       "      <td>4.6</td>\n",
       "      <td>8.4</td>\n",
       "    </tr>\n",
       "    <tr>\n",
       "      <th>4</th>\n",
       "      <td>2004</td>\n",
       "      <td>10.1</td>\n",
       "      <td>9.1</td>\n",
       "      <td>11.2</td>\n",
       "      <td>6.0</td>\n",
       "      <td>5.7</td>\n",
       "      <td>6.3</td>\n",
       "      <td>11.1</td>\n",
       "      <td>10.1</td>\n",
       "      <td>12.1</td>\n",
       "      <td>7.5</td>\n",
       "      <td>5.8</td>\n",
       "      <td>9.7</td>\n",
       "    </tr>\n",
       "  </tbody>\n",
       "</table>\n",
       "</div>"
      ],
      "text/plain": [
       "   Year  Hispanic - Percentage  Hispanic - Lower Limit  \\\n",
       "0  2000                    8.8                     7.9   \n",
       "1  2001                    9.2                     8.2   \n",
       "2  2002                    9.2                     8.2   \n",
       "3  2003                    8.5                     7.6   \n",
       "4  2004                   10.1                     9.1   \n",
       "\n",
       "   Hispanic - Upper Limit  Non-Hispanic White - Percentage  \\\n",
       "0                     9.8                              5.2   \n",
       "1                    10.2                              5.6   \n",
       "2                    10.4                              5.8   \n",
       "3                     9.6                              5.9   \n",
       "4                    11.2                              6.0   \n",
       "\n",
       "   Non-Hispanic White - Lower Limit  Non-Hispanic White - Upper Limit  \\\n",
       "0                               4.9                               5.5   \n",
       "1                               5.3                               6.0   \n",
       "2                               5.4                               6.1   \n",
       "3                               5.5                               6.2   \n",
       "4                               5.7                               6.3   \n",
       "\n",
       "   Non-Hispanic Black - Percentage  Non-Hispanic Black - Lower Limit  \\\n",
       "0                             10.1                               9.1   \n",
       "1                             10.3                               9.3   \n",
       "2                              9.9                               8.9   \n",
       "3                             10.0                               9.1   \n",
       "4                             11.1                              10.1   \n",
       "\n",
       "   Non-Hispanic Black - Upper Limit  Non-Hispanic Asian - Percentage  \\\n",
       "0                              11.1                              4.5   \n",
       "1                              11.3                              5.0   \n",
       "2                              10.9                              6.2   \n",
       "3                              11.1                              6.3   \n",
       "4                              12.1                              7.5   \n",
       "\n",
       "   Non-Hispanic Asian - Lower Limit  Non-Hispanic Asian - Upper Limit  \n",
       "0                               2.9                               6.9  \n",
       "1                               3.4                               7.2  \n",
       "2                               4.6                               8.4  \n",
       "3                               4.6                               8.4  \n",
       "4                               5.8                               9.7  "
      ]
     },
     "execution_count": 9,
     "metadata": {},
     "output_type": "execute_result"
    }
   ],
   "source": [
    "diabetes_by_re = pd.read_csv(\"data/diabetes_re.csv\")\n",
    "diabetes_by_re.head()"
   ]
  },
  {
   "cell_type": "markdown",
   "id": "d93e6f31",
   "metadata": {},
   "source": [
    "--------------------\n",
    "# 4. Looking at Geographical Breakdowns of Diabetes Data  <a id='3'></a>"
   ]
  },
  {
   "cell_type": "markdown",
   "id": "362c88cb",
   "metadata": {},
   "source": [
    "**Notebook 3 Development: This section will contain both your manipulation / cleaning of the data as well as the visualizations you create and the questions those visualizations generate. You can focus on just doing the data work, you don't need to worry about adding all the explanatory text or the questions, unless you want to -- I can do those!**"
   ]
  },
  {
   "cell_type": "markdown",
   "id": "0dceb97e",
   "metadata": {},
   "source": [
    "<!-- BEGIN QUESTION -->\n",
    "<div class=\"alert alert-warning\">\n",
    "\n",
    "### Question 4.1:\n",
    "**Before we begin looking at visualizations of our data, what kind of general trends in cases and deaths do you expect to see over time and across different sexes? You can utilize the information we discussed in Section 1, or you can do your own research / use your own knowledge! You don't need to be too specific or do a lot of research on it -- this question is just meant to reflect your initial intuition.**\n",
    "</div>"
   ]
  },
  {
   "cell_type": "markdown",
   "id": "7f7da4a7",
   "metadata": {},
   "source": [
    "*Type your answer here. Double-click to edit this cell and replace this text with your answer. Run this cell to proceed when finished.*"
   ]
  },
  {
   "cell_type": "markdown",
   "id": "86731f19",
   "metadata": {},
   "source": [
    "--------------------\n",
    "# 5. Utilizing Google Searches to Learn More <a id='4'></a>"
   ]
  },
  {
   "cell_type": "markdown",
   "id": "5aeb12e8",
   "metadata": {},
   "source": [
    "**Notebook 3 Development: Manaar will probably handle this section, unless someone else really wants to, as I don't have as much helpful development information / expectations.**"
   ]
  },
  {
   "cell_type": "markdown",
   "id": "a1abd2d7",
   "metadata": {},
   "source": [
    "<!-- END QUESTION -->\n",
    "-------------------------\n",
    "# Congratulations! You Have Completed Notebook 3.\n",
    "\n",
    "We hope this notebook gave you a fun and interesting look into different data analysis and visualization techniques for exploring diabetes data. In the final notebook, we'll be exploring and asking questions about other medical data. Below, you will find instructions on how to generate a PDF of your written responses to submit!"
   ]
  },
  {
   "cell_type": "markdown",
   "id": "20adda58",
   "metadata": {},
   "source": [
    "---------------\n",
    "# 6. Submitting Your Work  <a id='5'></a>"
   ]
  },
  {
   "cell_type": "markdown",
   "id": "006f35ee",
   "metadata": {},
   "source": [
    "**Make sure that you've answered all the questions.**\n",
    "\n",
    "Follow these steps: \n",
    "1. Go to `File` in the menu bar, then select `Save and Checkpoint` (or press CTRL+S on the keyboard).\n",
    "2. Go to `Cell` in the menu bar, then select `Run All`.\n",
    "3. Click the link produced by the code cell below.\n",
    "4. Submit the downloaded PDF on bCourses according to your professor's instructions.\n",
    "\n",
    "**Note:** If clicking the link below doesn't work for you, don't worry! Simply click `File` in the menu, find `Download As`, and choose `PDF via LaTeX (.pdf)` to save a copy of your PDF onto your computer. Alternatively, you can also right click the link and save the link content as a PDF.\n",
    "\n",
    "**Check the PDF before submitting and make sure all of your answers and any changes are shown.**"
   ]
  },
  {
   "cell_type": "code",
   "execution_count": 122,
   "id": "adf7e731",
   "metadata": {},
   "outputs": [
    {
     "data": {
      "text/html": [
       "<p style='font-size:20px'> <br>Save this notebook, then click <a href='Notebook 2 First Draft.pdf' download>here</a> to open the PDF.<br></p>"
      ],
      "text/plain": [
       "<IPython.core.display.HTML object>"
      ]
     },
     "metadata": {},
     "output_type": "display_data"
    }
   ],
   "source": [
    "# Run this cell\n",
    "# This may take a few extra seconds.\n",
    "from otter.export import export_notebook\n",
    "from IPython.display import display, HTML\n",
    "export_notebook(\"Notebook 2 First Draft.ipynb\", filtering=True, pagebreaks=False)\n",
    "display(HTML(\"<p style='font-size:20px'> <br>Save this notebook, then click <a href='Notebook 2 First Draft.pdf' download>here</a> to open the PDF.<br></p>\"))"
   ]
  },
  {
   "cell_type": "markdown",
   "id": "bc4f0907",
   "metadata": {},
   "source": [
    "------------------\n",
    "# 7. Explore Data Science Opportunities  <a id='6'></a>\n",
    "\n",
    "Interested in learning more about how to get involved in data science or coding for data analysis? The following resources might help support your learning:\n",
    "\n",
    "\n",
    "- Data Science Modules: http://data.berkeley.edu/education/modules\n",
    "\n",
    "- Data Science Offerings at Berkeley: https://data.berkeley.edu/academics/undergraduate-programs/data-science-offerings\n",
    "\n",
    "- Data 8 Course Information: http://data8.org/\n",
    "\n",
    "- Data 100 Course Information: https://ds100.org/"
   ]
  },
  {
   "cell_type": "markdown",
   "id": "3938db15",
   "metadata": {},
   "source": [
    "----------------------\n",
    "# 8. Feedback Form\n",
    "\n",
    "<div class=\"alert alert-info\">\n",
    "<b> We encourage student to fill out the following feedback form to share your experience with this Module notebook. This feedback form will take no longer than 5 minutes. At UC Berkeley Data Science Undergraduate Studies Modules, we appreciate all feedback to improve the learning of students and experience utilizing Jupyter Notebooks for Data Science Education: </b> \n",
    "</div>\n",
    "\n",
    "# [UC Berkeley Data Science Feedback Form](https://docs.google.com/forms/d/e/1FAIpQLScDK227bq_qLJDLsysk-UOEXy7G6_7YuYHGp2ogzeRBh4OvEw/viewform)"
   ]
  }
 ],
 "metadata": {
  "kernelspec": {
   "display_name": "Python 3 (ipykernel)",
   "language": "python",
   "name": "python3"
  },
  "language_info": {
   "codemirror_mode": {
    "name": "ipython",
    "version": 3
   },
   "file_extension": ".py",
   "mimetype": "text/x-python",
   "name": "python",
   "nbconvert_exporter": "python",
   "pygments_lexer": "ipython3",
   "version": "3.9.15"
  }
 },
 "nbformat": 4,
 "nbformat_minor": 5
}
