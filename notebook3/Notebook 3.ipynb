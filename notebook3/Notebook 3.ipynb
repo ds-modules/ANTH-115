{
 "cells": [
  {
   "cell_type": "markdown",
   "id": "0a6f3cbb",
   "metadata": {},
   "source": [
    "# [Anthropology 115] 3. Working with Diabetes Data\n",
    "\n",
    "<br>\n",
    "\n",
    "**Estimated Time:** 30-40 minutes <br>\n",
    "**Notebook Developed By:** Amisha Gupta, Manaar Salama, Lan Dinh, Reynolds Zhang <br>\n",
    "\n",
    "Welcome back! In the previous notebook, we took a look at HIV/AIDS data utilizing Python and Jupyter Notebooks, focusing especially on the historical context of the data collection as well as the impacts on individuals of battling HIV and AIDS that couldn't easily be represented by numbers. In this notebook, we'll be exploring some data on Type 2 diabetes diagnoses in the United States, as well as looking into how we can explore medical data utilizing another tool, Google Trends."
   ]
  },
  {
   "cell_type": "markdown",
   "id": "8fd9bc88",
   "metadata": {},
   "source": [
    "<figure>\n",
    "    <img src=\"https://news.yale.edu/sites/default/files/styles/featured_media/public/adobestock_276205639.jpeg?itok=PjcxEgaC&c=07307e7d6a991172b9f808eb83b18804\" width=600 height=400 />\n",
    "    </figure>"
   ]
  },
  {
   "cell_type": "markdown",
   "id": "a8313f6a",
   "metadata": {},
   "source": [
    "Image Source: [YaleNews](https://news.yale.edu/2020/02/04/studies-suggest-new-path-reversing-type-2-diabetes-and-liver-fibrosis)"
   ]
  },
  {
   "cell_type": "markdown",
   "id": "079397b9",
   "metadata": {},
   "source": [
    "\n",
    "### Learning Outcomes\n",
    "\n",
    "In this notebook, you will learn about:\n",
    "- The History and Context of Diabetes Data\n",
    "- Analyzing and Visualizing Diabetes Data with Python\n",
    "- Utilizing Google Searches to Discover More About the Medical Data\n",
    "\n",
    "### Table of Contents\n",
    "1. [Introduction to the Data](#0) <br>\n",
    "1. [Looking at Demographic Breakdowns of Diabetes Data](#1) <br>\n",
    "1. [Looking at Geographical Breakdowns of Diabetes Data](#2) <br>\n",
    "1. [Utilizing Google Searches to Learn More](#3) <br>\n",
    "1. [Submitting Your Work](#4)<br>\n",
    "1. [Feedback Form](#5)<br>\n",
    "1. [(Optional) Explore Data Science Opportunities](#6)<br>"
   ]
  },
  {
   "cell_type": "markdown",
   "id": "e3fd4081",
   "metadata": {},
   "source": [
    "As some quick reminders, you will not be expected or required to do any coding yourself in this notebook! The only questions you will be answering are some short-answer questions based on the data and visualizations. These questions that you will be answering are located in the **yellow-shaded boxes** throughout the notebook. Along with this, for any code cells that say \"`# Run this cell`\" at the top, be sure to run them so you can properly see the data tables and visualizations!"
   ]
  },
  {
   "cell_type": "markdown",
   "id": "ce6a2b78",
   "metadata": {},
   "source": [
    "------------------\n",
    "## Run the cell below to import all our required materials for this notebook!"
   ]
  },
  {
   "cell_type": "code",
   "execution_count": null,
   "id": "1528ed02",
   "metadata": {},
   "outputs": [],
   "source": [
    "# Run this cell by hitting 'Shift + Enter' or using the 'Run' button at the top!\n",
    "import numpy as np\n",
    "import pandas as pd\n",
    "import folium\n",
    "from re import sub\n",
    "import ipywidgets as widgets\n",
    "from ipywidgets import interact, interactive, fixed, interact_manual\n",
    "from IPython.display import display, HTML\n",
    "import otter\n",
    "grader = otter.Notebook()\n",
    "import datascience\n",
    "import matplotlib.pyplot as plt\n",
    "%matplotlib inline\n",
    "plt.style.use('fivethirtyeight')\n",
    "import seaborn as sns\n",
    "print(\"Done!\")"
   ]
  },
  {
   "cell_type": "markdown",
   "id": "74ee4f60",
   "metadata": {},
   "source": [
    "-----------\n",
    "# 1. Introduction to the Data <a id='0'></a>"
   ]
  },
  {
   "cell_type": "markdown",
   "id": "e8a9074f",
   "metadata": {},
   "source": [
    "For this notebook, we'll be utilizing [a few datasets](https://gis.cdc.gov/grasp/diabetes/diabetesatlas-surveillance.html#) that come from the **Centers for Disease Control and Prevention**. These datasets contain the percentages, as well as the upper and lower limits for these percentages, yearly from 2000 to 2021 of adults diagnosed with Type 2 diabetes in the United States."
   ]
  },
  {
   "cell_type": "markdown",
   "id": "8925c104",
   "metadata": {},
   "source": [
    "These datasets are split up by the information they contain, such as the different demographics about the adults being diagnosed with Type 2 diabetes, as well as a larger dataset of the yearly breakdown of percentages by state / region in the United States. These regions (**South, West, Midwest, and Northeast**) were [determined by the United States Census Bureau](https://gisgeography.com/us-regions-map/)."
   ]
  },
  {
   "cell_type": "markdown",
   "id": "bffc3724",
   "metadata": {},
   "source": [
    "Although we will be visualizing the breakdowns of individuals diagnosed by race/ethnicity and education level because it can be quite informative, it is important to note how the dataset **represents these categories** and how problematic the simplified categories for these characteristics can be. As in the previous notebooks, it is always important to think of the harms and issues by forcing the individuals into these pre-set categories."
   ]
  },
  {
   "cell_type": "markdown",
   "id": "5d20f7be",
   "metadata": {},
   "source": [
    "----------------------\n",
    "# 2. Looking at Demographic Breakdowns of Diabetes Data <a id='1'></a>"
   ]
  },
  {
   "cell_type": "markdown",
   "id": "8460dd7a",
   "metadata": {},
   "source": [
    "## 2.1 Overall Percentages"
   ]
  },
  {
   "cell_type": "markdown",
   "id": "55ab322e",
   "metadata": {},
   "source": [
    "First, we'll be taking a look at the different percentages of all adults diagnosed with diabetes in the U.S."
   ]
  },
  {
   "cell_type": "code",
   "execution_count": null,
   "id": "ca6b407a",
   "metadata": {},
   "outputs": [],
   "source": [
    "# Run this cell\n",
    "diabetes = pd.read_csv(\"data/diabetes_total.csv\")\n",
    "diabetes.tail()"
   ]
  },
  {
   "cell_type": "code",
   "execution_count": null,
   "id": "fc91f2ae",
   "metadata": {
    "scrolled": false
   },
   "outputs": [],
   "source": [
    "# Run this cell\n",
    "figure = plt.figure(figsize = (8,4))\n",
    "total = sns.lineplot(data = diabetes, x = \"Year\", y = \"Total - Percentage\", lw= 2, label ='Total Percentage')\n",
    "lower = sns.lineplot(data = diabetes, x = \"Year\", y = \"Total - Lower Limit\", lw= 2, color = 'black', label ='Upper and Lower Limits', alpha = 0.25)\n",
    "upper = sns.lineplot(data = diabetes, x = \"Year\", y = \"Total - Upper Limit\", lw= 2, color = 'black', alpha = 0.25)\n",
    "line = upper.get_lines()\n",
    "plt.fill_between(line[0].get_xdata(), line[1].get_ydata(), line[2].get_ydata(), color = \"teal\", alpha = 0.5)\n",
    "plt.legend()\n",
    "plt.xlabel(\"Year\")\n",
    "plt.ylabel(\"Percentage\")\n",
    "plt.title(\"Adults Diagnosed with Diabetes Percentage \\n in the United States from 2000 to 2021\", fontsize = 18);"
   ]
  },
  {
   "cell_type": "markdown",
   "id": "58ded596",
   "metadata": {},
   "source": [
    "As we can see, our dataset provides us with both upper and lower limits of the percentage, so we can get an idea of what the range of the percentage value of adults diagnosed with Type 2 diabetes looks like. The light grey lines above represent those upper and lower limits in the dataset, and the teal shading between the limits shows us the range of possible values for the percentages, as it is quite possible for there to be some error in the datapoints."
   ]
  },
  {
   "cell_type": "markdown",
   "id": "2f305cda",
   "metadata": {},
   "source": [
    "Next, we can take a look at some of the other datasets provided by the CDC, including breakdown of percentages by sex, education level, and race/ethnicity. <br> <br>"
   ]
  },
  {
   "cell_type": "markdown",
   "id": "a8c8f1fc",
   "metadata": {},
   "source": [
    "## 2.2 Diabetes Percentages by Sex"
   ]
  },
  {
   "cell_type": "code",
   "execution_count": null,
   "id": "c2ece266",
   "metadata": {},
   "outputs": [],
   "source": [
    "# Run this cell\n",
    "diabetes_by_sex = pd.read_csv(\"data/diabetes_sex.csv\")\n",
    "diabetes_by_sex.head()"
   ]
  },
  {
   "cell_type": "code",
   "execution_count": null,
   "id": "131e2ff9",
   "metadata": {},
   "outputs": [],
   "source": [
    "# Run this cell\n",
    "# Plot side-by-side\n",
    "fig, ax = plt.subplots(1, 2, sharey = True, figsize = (12,8))\n",
    "\n",
    "# Plot Male\n",
    "\n",
    "total_male = sns.lineplot(data = diabetes_by_sex, x = \"Year\", y = \"Male - Percentage\", lw = 2, label = 'Total Male Percentage', ax = ax[0])\n",
    "lower_male = sns.lineplot(data = diabetes_by_sex, x = \"Year\", y = \"Male - Lower Limit\", lw = 2, color = 'black', label ='Upper and Lower Limits', alpha = 0.25, ax = ax[0])\n",
    "upper_male = sns.lineplot(data = diabetes_by_sex, x = \"Year\", y = \"Male - Upper Limit\", lw = 2, color = 'black', alpha = 0.25, ax = ax[0])\n",
    "line_male = upper_male.get_lines()\n",
    "ax[0].fill_between(line_male[0].get_xdata(), line_male[1].get_ydata(), line_male[2].get_ydata(), color = \"teal\", alpha = 0.5)\n",
    "ax[0].legend()\n",
    "ax[0].set(ylabel = 'Percentage')\n",
    "\n",
    "# Plot Female  \n",
    "\n",
    "total_female = sns.lineplot(data = diabetes_by_sex, x = \"Year\", y = \"Female - Percentage\", lw = 2, label = 'Total Female Percentage', ax = ax[1])\n",
    "lower_female = sns.lineplot(data = diabetes_by_sex, x = \"Year\", y = \"Female - Lower Limit\", lw = 2, color = 'black', label ='Upper and Lower Limits', alpha = 0.25, ax = ax[1])\n",
    "upper_female = sns.lineplot(data = diabetes_by_sex, x = \"Year\", y = \"Female - Upper Limit\", lw = 2, color = 'black', alpha = 0.25, ax = ax[1])\n",
    "line_female = upper_female.get_lines()\n",
    "ax[1].fill_between(line_female[0].get_xdata(), line_female[1].get_ydata(), line_female[2].get_ydata(), color = \"teal\", alpha = 0.5)\n",
    "ax[1].legend()\n",
    "\n",
    "# Set titles\n",
    "fig.suptitle(\"Side-by-side Diabetes Percentage by Sex in United States from 2000 to 2021\")\n",
    "fig.tight_layout()\n",
    "fig.show();\n"
   ]
  },
  {
   "cell_type": "markdown",
   "id": "d323c310",
   "metadata": {},
   "source": [
    "As we can see from the side-by-side plot, the percentage of male adults diagnosed with Type 2 diabetes is higher than that of female adults diagnosed."
   ]
  },
  {
   "cell_type": "markdown",
   "id": "733fc918",
   "metadata": {},
   "source": [
    "It is important to note, as we have been in the past few notebooks, to take note of who is not represented in this categorization of sex that has been determined by the U.S. Census. The inability to properly represent any characteristic about human beings that is not perfectly binary or easy to split among categories has always been and likely will continue to be an issue in data collection and management, especially with regards to medical data. <br> <br>"
   ]
  },
  {
   "cell_type": "markdown",
   "id": "f68db985",
   "metadata": {},
   "source": [
    "## 2.3 Diabetes Percentages by Education Level"
   ]
  },
  {
   "cell_type": "markdown",
   "id": "a5fea83e",
   "metadata": {},
   "source": [
    "Next, we will take a look at another demographic category represented in the dataset provided by the CDC: **education level**. The way in which this data represented, as well as the implications that its inclusion bring about, are among the most important and interesting aspects about these datasets to discuss."
   ]
  },
  {
   "cell_type": "code",
   "execution_count": null,
   "id": "4a9cdb1c",
   "metadata": {},
   "outputs": [],
   "source": [
    "# Run this cell\n",
    "diabetes_by_edu = pd.read_csv(\"data/diabetes_education.csv\")\n",
    "diabetes_by_edu.head()"
   ]
  },
  {
   "cell_type": "markdown",
   "id": "32975b6c",
   "metadata": {},
   "source": [
    "As we can see from the table above, there are only three categories in which the individuals can be placed: `< High School`, `High School`, and `> High School`, referring to individuals who have completed less education than the high school level, the high school level, and more education than the high school level, respectively. If this were another dataset, in which education might actually be a relevant feature to be looking into, we could see the problems that these limited categories could cause."
   ]
  },
  {
   "cell_type": "markdown",
   "id": "cd8a390e",
   "metadata": {},
   "source": [
    "<!-- BEGIN QUESTION -->\n",
    "<div class=\"alert alert-warning\">\n",
    "\n",
    "### Question 2.1:\n",
    "**What do you think the purpose is of including education level as a characteristic of these individuals? What would the education level likely be representing about the individuals diagnosed with Type 2 diabetes? What harmful implications or generalizations could this representation cause?**\n",
    "</div>"
   ]
  },
  {
   "cell_type": "markdown",
   "id": "21002e49",
   "metadata": {},
   "source": [
    "*Type your answer here. Double-click to edit this cell and replace this text with your answer. Run this cell to proceed when finished.*"
   ]
  },
  {
   "cell_type": "markdown",
   "id": "cf891bd2",
   "metadata": {},
   "source": [
    "<!-- END QUESTION -->"
   ]
  },
  {
   "cell_type": "code",
   "execution_count": null,
   "id": "5c4834d3",
   "metadata": {},
   "outputs": [],
   "source": [
    "# Run this cell\n",
    "plt.figure(figsize = (8,4))\n",
    "sns.lineplot(data = diabetes_by_edu, x = \"Year\", y = \"< High School - Percentage\", lw = 2, label ='< High School Education')\n",
    "sns.lineplot(data = diabetes_by_edu, x = \"Year\", y = \"High School - Percentage\", lw = 2, label = 'High School Education')\n",
    "sns.lineplot(data = diabetes_by_edu, x = \"Year\", y = \"> High School - Percentage\", lw = 2, label ='> High School Education')\n",
    "plt.legend(loc = \"lower right\")\n",
    "plt.ylim([0, 15])\n",
    "plt.ylabel(\"Percentage\");\n",
    "plt.title(\"Diabetes Percentage by Education Level in United States from 2000 to 2021\", fontsize = 16);"
   ]
  },
  {
   "cell_type": "markdown",
   "id": "e86c2a34",
   "metadata": {},
   "source": [
    "From this, we can see a graph that shows people with lower education levels having a higher percentage diagnosed, while people with higher education levels having the lowest percentage diagnosed. Again, it is important to consider what implications are being stated through this representation, and how this representation may be vastly misleading. <br> <br>"
   ]
  },
  {
   "cell_type": "markdown",
   "id": "ce1eb6ac",
   "metadata": {},
   "source": [
    "## 2.4 Diabetes Percentages by Race/Ethnicity"
   ]
  },
  {
   "cell_type": "markdown",
   "id": "80cbd35b",
   "metadata": {},
   "source": [
    "Finally, we'll be looking into the breakdown of diabetes diagnoses percentages among different races/ethnicities."
   ]
  },
  {
   "cell_type": "markdown",
   "id": "73799526",
   "metadata": {},
   "source": [
    "We have seen consistently throughout our previous notebooks that the way that race/ethnicity is represented by the Census and most other governmental datasets is highly misrepresentative, and it forces people into categories when race/ethnicity is not always something that can easily (or should) be divided into this handful of pre-defined boxes."
   ]
  },
  {
   "cell_type": "code",
   "execution_count": null,
   "id": "3f722df8",
   "metadata": {},
   "outputs": [],
   "source": [
    "# Run this cell\n",
    "diabetes_by_re = pd.read_csv(\"data/diabetes_re.csv\")\n",
    "diabetes_by_re.head()"
   ]
  },
  {
   "cell_type": "code",
   "execution_count": null,
   "id": "6070e5e7",
   "metadata": {
    "scrolled": false
   },
   "outputs": [],
   "source": [
    "# Run this cell\n",
    "plt.figure(figsize = (8,4))\n",
    "sns.lineplot(data = diabetes_by_re, x = \"Year\", y = \"Hispanic - Percentage\", lw = 2, label ='Hispanic')\n",
    "sns.lineplot(data = diabetes_by_re, x = \"Year\", y = \"Non-Hispanic White - Percentage\", lw = 2, label = 'White')\n",
    "sns.lineplot(data = diabetes_by_re, x = \"Year\", y = \"Non-Hispanic Black - Percentage\", lw = 2, label = 'Black')\n",
    "sns.lineplot(data = diabetes_by_re, x = \"Year\", y = \"Non-Hispanic Asian - Percentage\", lw = 2, label = 'Asian')\n",
    "plt.ylim([0, 15])\n",
    "plt.ylabel(\"Percentage\");\n",
    "plt.title('Diabetes Percentage by Race/Ethnicity in United States from 2000 to 2021', fontsize = 16);"
   ]
  },
  {
   "cell_type": "markdown",
   "id": "f24b2ded",
   "metadata": {},
   "source": [
    "The information provided by this visualization is one that we commonly see in visualizations of medical data (particularly when the data is about diseases or other health conditions) broken down by race/ethnicity -- Hispanic and Black people are diagnosed with Type 2 diabetes at higher percentages than White and Asian people. <br> <br>"
   ]
  },
  {
   "cell_type": "markdown",
   "id": "0119780d",
   "metadata": {},
   "source": [
    "## 2.5 Summary of Demographic Breakdown"
   ]
  },
  {
   "cell_type": "markdown",
   "id": "7f3e2005",
   "metadata": {},
   "source": [
    "As we have seen in these past three notebooks, much of the time that we take a look at the \"demographic breakdown\" of medical data, there are important and harmful implicatons that come from the way we represent this data in the form of numbers and distinct categories. As it turns out, much of the information that we have about ourselves -- even things that seem relatively easy to state about ourselves such as our sex/gender, race/ethnicity, and education level -- is not easily broken up into a few simple categories, and it does not and should not put us into categories in which, for example, the percentage of individuals sharing our \"identity\" have a higher percentage of some disease than others. "
   ]
  },
  {
   "cell_type": "markdown",
   "id": "fbad5839",
   "metadata": {},
   "source": [
    "We hope that the repeated cases looking at this type of information and data has been helpful in demonstrating some of the issues that come with representing characteristics about ourself in our medical data."
   ]
  },
  {
   "cell_type": "markdown",
   "id": "d93e6f31",
   "metadata": {},
   "source": [
    "--------------------\n",
    "# 3. Looking at Geographical Breakdowns of Diabetes Data  <a id='2'></a>"
   ]
  },
  {
   "cell_type": "markdown",
   "id": "cc62ed31",
   "metadata": {},
   "source": [
    "Next, we will be taking a look at the dataset containing information about the yearly Type 2 diabetes diagnoses in each state of the United States (as well as the District of Columbia). From this data, we can look into how the percentage of diabetes diagnoses varies greatly by region across the U.S."
   ]
  },
  {
   "cell_type": "code",
   "execution_count": null,
   "id": "9bcc481f",
   "metadata": {},
   "outputs": [],
   "source": [
    "# Run this cell\n",
    "diabetes_states = pd.read_csv(\"data/diabetes_states.csv\")\n",
    "diabetes_states.head()"
   ]
  },
  {
   "cell_type": "code",
   "execution_count": null,
   "id": "05d905ea",
   "metadata": {},
   "outputs": [],
   "source": [
    "# Run this cell\n",
    "diabetes_states = diabetes_states.astype({\"Percentage\": float})"
   ]
  },
  {
   "cell_type": "code",
   "execution_count": null,
   "id": "19f9fafb",
   "metadata": {},
   "outputs": [],
   "source": [
    "# Run this cell\n",
    "plt.figure(figsize = (8,4))\n",
    "sns.lineplot(data = diabetes_states, x = \"Year\", y = \"Percentage\", hue = \"Region\", ci = False, lw = 3)\n",
    "plt.ylim([4, 12]);\n",
    "plt.xticks(ticks = [2000, 2005, 2010, 2015, 2020]);\n",
    "plt.legend(fontsize = 15);"
   ]
  },
  {
   "cell_type": "markdown",
   "id": "4d9593fe",
   "metadata": {},
   "source": [
    "From this graph, we can see immediately that there is a discrepancy in the Type 2 diabetes diagnoses percentages across the different regions of the U.S."
   ]
  },
  {
   "cell_type": "markdown",
   "id": "0dceb97e",
   "metadata": {},
   "source": [
    "<!-- BEGIN QUESTION -->\n",
    "<div class=\"alert alert-warning\">\n",
    "\n",
    "### Question 3.1:\n",
    "**Do a bit of research into the rates of Type 2 diabetes in the different regions of the United States, and see if you can find any factors that may be contributing to this discrepancy. Why is it important for us to be considering how certain areas of the United States are more affected by a medical condition than others?**\n",
    "</div>"
   ]
  },
  {
   "cell_type": "markdown",
   "id": "7f7da4a7",
   "metadata": {},
   "source": [
    "*Type your answer here. Double-click to edit this cell and replace this text with your answer. Run this cell to proceed when finished.*"
   ]
  },
  {
   "cell_type": "markdown",
   "id": "d04ac603",
   "metadata": {},
   "source": [
    "<!-- END QUESTION -->\n",
    "<br>\n",
    "Below, we have created a widget for you to take a look at the yearly percentage of Type 2 diabetes diagnoses in any state of your choosing."
   ]
  },
  {
   "cell_type": "code",
   "execution_count": null,
   "id": "2fed4ab5",
   "metadata": {},
   "outputs": [],
   "source": [
    "# Run this cell\n",
    "def plot_by_state(state):\n",
    "    \"Create a lineplot for percentages of diabetes diagnoses for adults in different states\"\n",
    "    plt.figure(figsize = (8,4))  \n",
    "    plot = sns.lineplot(data = diabetes_states[diabetes_states[\"State\"] == state], x = 'Year', y = 'Percentage', ci = False) \n",
    "    plt.ylim([4, 15]);\n",
    "    plt.xticks(ticks = [2000, 2005, 2010, 2015, 2020]);\n",
    "    plt.title('Yearly Percentage of Adults Diagnosed \\n with Type 2 Diabetes in ' + state);\n",
    "\n",
    "\n",
    "def state_dropdown_widget():\n",
    "    dropdown = widgets.Dropdown(\n",
    "        options = diabetes_states[\"State\"].unique(),\n",
    "        value = 'Alabama',\n",
    "        description = 'State:',\n",
    "        disabled = False\n",
    "    )\n",
    "    return dropdown\n",
    "\n",
    "dropdown = state_dropdown_widget()\n",
    "dropdown\n",
    "\n",
    "# Creates an interactive plot by country\n",
    "interact(plot_by_state, state = dropdown);"
   ]
  },
  {
   "cell_type": "markdown",
   "id": "27b1f614",
   "metadata": {},
   "source": [
    "In this notebook we only considered the data of diabetes diagnoses in the United States, primarily because there would be an incredible amount of data to look at if we considered other countries, but you may find it useful and interesting to take a look at how certain countries may have higher percentages of adults diagnosed with Type 2 diabetes. Diabetes does not only affect the United States, and it would be misleading and misrepresentative to choose not to look at how other countries may be affected by it as well."
   ]
  },
  {
   "cell_type": "markdown",
   "id": "8de96214",
   "metadata": {},
   "source": [
    "--------------------\n",
    "# 4. Utilizing Google Searches to Learn More <a id='3'></a>"
   ]
  },
  {
   "cell_type": "markdown",
   "id": "521cbed5",
   "metadata": {},
   "source": [
    "In this section, we'll be doing some exploration of the information that Google can tell us with regards to medical conditions, diagnoses, and data. To do so, we'll be using [Google Trends](https://trends.google.com/trends/explore), a helpful tool that allows us to look at how different search terms and queries have trended over time."
   ]
  },
  {
   "cell_type": "markdown",
   "id": "5349c634",
   "metadata": {},
   "source": [
    "As a first example, we can take a look at the search term `Type 2 diabetes`, to see how that search term has performed over time, the subregions in the United States where it has trended the most, and the most related search queries to the term."
   ]
  },
  {
   "cell_type": "markdown",
   "id": "8df57e1b",
   "metadata": {},
   "source": [
    "<img src=\"data/diabetes_1.png\" width=800 height=600 />"
   ]
  },
  {
   "cell_type": "markdown",
   "id": "96ea4d96",
   "metadata": {},
   "source": [
    "As we can see from this screenshot, after changing the dropdown filters to be looking at the United States and all the years from 2004 - the present, there has been a slow upward trend of people searching the term `Type 2 diabetes` on Google."
   ]
  },
  {
   "cell_type": "markdown",
   "id": "208b5ddb",
   "metadata": {},
   "source": [
    "<img src=\"data/diabetes_2.png\" width=800 height=500 />"
   ]
  },
  {
   "cell_type": "markdown",
   "id": "dcdd6a62",
   "metadata": {},
   "source": [
    "Next, we can take a look at the relative interest in this search term by state (we can see Mississippi setting the bar for the highest relative interest in this search term), and right underneath that, we see both the related topics and related queries. It is best to take a look at the \"Top\" related topics and queries, because the \"Rising\" related topics and queries tend to only be primarily reflecting what has been trending recently (but feel free to look at the \"Rising\" topics and queries anyway!)."
   ]
  },
  {
   "cell_type": "markdown",
   "id": "f6cce34c",
   "metadata": {},
   "source": [
    "Finally, another helpful function is being able to compare multiple search terms to see how they have trended at the same time."
   ]
  },
  {
   "cell_type": "markdown",
   "id": "5b4ae91e",
   "metadata": {},
   "source": [
    "<img src=\"data/diabetes_3.png\" width=800 height=600 />"
   ]
  },
  {
   "cell_type": "markdown",
   "id": "52aea1fc",
   "metadata": {},
   "source": [
    "This was a short introduction to some of the most interesting and useful features of Google Trends, but now it's your turn! Feel free to explore different search topics and queries related to Type 2 diabetes, primarily taking a look at what kinds of trends you can find regarding the symptoms of Type 2 diabetes as well as its treatments. You can use some of, all of, or more than the features that we discussed."
   ]
  },
  {
   "cell_type": "markdown",
   "id": "a3f30b4f",
   "metadata": {},
   "source": [
    "<!-- BEGIN QUESTION -->\n",
    "<div class=\"alert alert-warning\">\n",
    "\n",
    "### Question 4.1:\n",
    "**Summarize any interesting results that you found from exploring Google Trends. You can talk about any queries you tried, which terms resulted in higher percentages than you expected, which terms resulted in lower percentages that you thought might result in more, or anything else that you found interesting while looking through the trends!**\n",
    "</div>"
   ]
  },
  {
   "cell_type": "markdown",
   "id": "767edbbc",
   "metadata": {},
   "source": [
    "*Type your answer here. Double-click to edit this cell and replace this text with your answer. Run this cell to proceed when finished.*"
   ]
  },
  {
   "cell_type": "markdown",
   "id": "a1abd2d7",
   "metadata": {},
   "source": [
    "<!-- END QUESTION -->\n",
    "-------------------------\n",
    "# Congratulations! You Have Completed Notebook 3.\n",
    "\n",
    "We hope this notebook gave you a fun and interesting look into different data analysis and visualization techniques for exploring diabetes data. In the final notebook, we'll be exploring and asking questions about substance use epidemiology. Below, you will find instructions on how to generate a PDF of your written responses to submit!"
   ]
  },
  {
   "cell_type": "markdown",
   "id": "20adda58",
   "metadata": {},
   "source": [
    "---------------\n",
    "# 5. Submitting Your Work  <a id='4'></a>"
   ]
  },
  {
   "cell_type": "markdown",
   "id": "006f35ee",
   "metadata": {},
   "source": [
    "**Make sure that you've answered all the questions.**\n",
    "\n",
    "Follow these steps: \n",
    "1. Go to `File` in the menu bar, then select `Save and Checkpoint` (or press CTRL+S on the keyboard).\n",
    "2. Go to `Cell` in the menu bar, then select `Run All`.\n",
    "3. Click the link produced by the code cell below.\n",
    "4. Submit the downloaded PDF on bCourses according to your professor's instructions.\n",
    "\n",
    "**Note:** If clicking the link below doesn't work for you, don't worry! Simply click `File` in the menu, find `Download As`, and choose `PDF via LaTeX (.pdf)` to save a copy of your PDF onto your computer. Alternatively, you can also right click the link and save the link content as a PDF.\n",
    "\n",
    "**Check the PDF before submitting and make sure all of your answers and any changes are shown.**"
   ]
  },
  {
   "cell_type": "code",
   "execution_count": null,
   "id": "adf7e731",
   "metadata": {},
   "outputs": [],
   "source": [
    "# Run this cell\n",
    "# This may take a few extra seconds.\n",
    "from otter.export import export_notebook\n",
    "from IPython.display import display, HTML\n",
    "export_notebook(\"Notebook 3.ipynb\", filtering=True, pagebreaks=False)\n",
    "display(HTML(\"<p style='font-size:20px'> <br>Save this notebook, then click <a href='Notebook 3.pdf' download>here</a> to open the PDF.<br></p>\"))"
   ]
  },
  {
   "cell_type": "markdown",
   "id": "b05ef6d1",
   "metadata": {},
   "source": [
    "----------------------\n",
    "# 6. Feedback Form  <a id='5'></a>"
   ]
  },
  {
   "cell_type": "markdown",
   "id": "3938db15",
   "metadata": {},
   "source": [
    "<div class=\"alert alert-info\">\n",
    "<b> We encourage student to fill out the following feedback form to share your experience with this Module notebook. This feedback form will take no longer than 5 minutes. At UC Berkeley Data Science Undergraduate Studies Modules, we appreciate all feedback to improve the learning of students and experience utilizing Jupyter Notebooks for Data Science Education: </b> \n",
    "</div>\n",
    "\n",
    "# [UC Berkeley Data Science Feedback Form](https://forms.gle/hPgYMxFWKXH2sVkd7)"
   ]
  },
  {
   "cell_type": "markdown",
   "id": "bc4f0907",
   "metadata": {},
   "source": [
    "------------------\n",
    "# 7. (Optional) Explore Data Science Opportunities  <a id='6'></a>\n",
    "\n",
    "Interested in learning more about how to get involved in data science or coding for data analysis? The following resources might help support your learning:\n",
    "\n",
    "\n",
    "- Data Science Modules: http://data.berkeley.edu/education/modules\n",
    "\n",
    "- Data Science Offerings at Berkeley: https://data.berkeley.edu/academics/undergraduate-programs/data-science-offerings\n",
    "\n",
    "- Data 8 Course Information: http://data8.org/\n",
    "\n",
    "- Data 100 Course Information: https://ds100.org/"
   ]
  }
 ],
 "metadata": {
  "kernelspec": {
   "display_name": "Python 3 (ipykernel)",
   "language": "python",
   "name": "python3"
  },
  "language_info": {
   "codemirror_mode": {
    "name": "ipython",
    "version": 3
   },
   "file_extension": ".py",
   "mimetype": "text/x-python",
   "name": "python",
   "nbconvert_exporter": "python",
   "pygments_lexer": "ipython3",
   "version": "3.9.15"
  }
 },
 "nbformat": 4,
 "nbformat_minor": 5
}
